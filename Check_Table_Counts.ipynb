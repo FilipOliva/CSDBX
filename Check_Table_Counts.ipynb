{
 "cells": [
  {
   "cell_type": "code",
   "execution_count": 0,
   "metadata": {
    "application/vnd.databricks.v1+cell": {
     "cellMetadata": {
      "byteLimit": 2048000,
      "rowLimit": 10000
     },
     "inputWidgets": {},
     "nuid": "f80dba7f-241d-4190-afde-9f05e65286ba",
     "showTitle": false,
     "tableResultSettingsMap": {},
     "title": ""
    }
   },
   "outputs": [],
   "source": [
    "# Databricks notebook source\n",
    "# MAGIC %md\n",
    "# MAGIC ## Count Records for All Tables in Schema\n",
    "# MAGIC Simple script to count records in all tables within a specified schema\n",
    "\n",
    "# COMMAND ----------\n",
    "\n",
    "# DBTITLE 1,Set Parameters\n",
    "catalog_name = 'gap_catalog'\n",
    "#schema_name = 'ads_owner'  # Change this to your desired schema\n",
    "schema_name = 'ads_etl_owner'  # Change this to your desired schema\n",
    "\n",
    "# COMMAND ----------\n",
    "\n",
    "# DBTITLE 1,Count Records in All Tables\n",
    "print(f\"Counting records in {catalog_name}.{schema_name}\")\n",
    "print(\"=\" * 50)\n",
    "\n",
    "# Get list of all tables in the schema\n",
    "tables_df = spark.sql(f\"\"\"\n",
    "    SELECT table_name \n",
    "    FROM gap_catalog.information_schema.tables \n",
    "    WHERE table_catalog = '{catalog_name}' \n",
    "      AND table_schema = '{schema_name}'\n",
    "      --AND table_type = 'BASE TABLE'\n",
    "    ORDER BY table_name\n",
    "\"\"\")\n",
    "\n",
    "# Count records for each table\n",
    "for row in tables_df.collect():\n",
    "    table_name = row['table_name']\n",
    "    try:\n",
    "        count_df = spark.sql(f\"SELECT COUNT(*) as cnt FROM {catalog_name}.{schema_name}.{table_name}\")\n",
    "        record_count = count_df.collect()[0]['cnt']\n",
    "        print(f\"{table_name}: {record_count:,}\")\n",
    "    except Exception as e:\n",
    "        print(f\"{table_name}: ERROR - {str(e)}\")\n",
    "\n",
    "print(\"=\" * 50)\n",
    "print(\"Completed\")"
   ]
  }
 ],
 "metadata": {
  "application/vnd.databricks.v1+notebook": {
   "computePreferences": {
    "hardware": {
     "accelerator": null,
     "gpuPoolId": null,
     "memory": null
    }
   },
   "dashboards": [],
   "environmentMetadata": {
    "base_environment": "",
    "environment_version": "3"
   },
   "inputWidgetPreferences": null,
   "language": "python",
   "notebookMetadata": {
    "pythonIndentUnit": 4
   },
   "notebookName": "Check_Table_Counts",
   "widgets": {}
  },
  "language_info": {
   "name": "python"
  }
 },
 "nbformat": 4,
 "nbformat_minor": 0
}
