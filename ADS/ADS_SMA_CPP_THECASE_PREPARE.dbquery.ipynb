{
 "cells": [
  {
   "cell_type": "code",
   "execution_count": 0,
   "metadata": {
    "application/vnd.databricks.v1+cell": {
     "cellMetadata": {
      "byteLimit": 10485760,
      "rowLimit": 1000
     },
     "inputWidgets": {},
     "nuid": "ae3922d3-4150-4403-b9fd-50d0a21c3a08",
     "showTitle": false,
     "tableResultSettingsMap": {},
     "title": ""
    }
   },
   "outputs": [],
   "source": [
    "  --INSERT /*+APPEND PARALLEL(8)*/ INTO stg_sma_case_phase_properties_theCase\n",
    "    SELECT cidla, json_value(JSONDATA, '$.theCase.casePhase' returning varchar2(120)) as casephase, timestamp  FROM gap_catalog.ads_src_20250901.DLK_ADS_SMA_MONITOR_EVENTS_FULL  s\n",
    "    left join ads_owner.cases c on c.case_source_id=s.cidla and c.case_valid_to=date'3000-01-01' and c.case_source_system_id='SMA' and c.case_source_sys_origin='SMA_MONITOR_EVENTS' and s.type='CASE_TRANSITIONS_EVALUATED'\n",
    "    left join ads_owner.case_status cs on c.cstat_key=cs.cstat_key and cs.cstat_valid_to=date'3000-01-01'\n",
    "                where s.type in ('CASE_CREATED',\n",
    "        'CASE_COMPLETED',\n",
    "        'CASE_WAITING',\n",
    "        'CASE_RUNNING',\n",
    "        'CASE_UPDATED',\n",
    "        'CASE_PHASE_CHANGED',\n",
    "        'CASE_RECONCILE',\n",
    "        'CASE_TRANSITIONS_EVALUATED'\n",
    "    --,     --JVE:  zmena typu case\n",
    "              ) \n",
    "              and json_value(JSONDATA, '$.theCase.casePhase') is not null and (c.case_key is null or cs.CSTAT_SOURCE_ID=json_value(jsondata, '$.theCase.caseStatus')) \n",
    ";\n",
    "---------------------------------------------------------------------------------------------\n",
    "SELECT \n",
    "    s.cidla, \n",
    "    get_json_object(s.JSONDATA, '$.theCase.casePhase') as casephase, \n",
    "    s.timestamp  \n",
    "FROM gap_catalog.ads_src_20250901.DLK_ADS_SMA_MONITOR_EVENTS_FULL s\n",
    "LEFT JOIN gap_catalog.ads_src_20250901.cases c \n",
    "    ON c.case_source_id = s.cidla \n",
    "    AND c.case_valid_to = DATE('3000-01-01') \n",
    "    AND c.case_source_system_id = 'SMA' \n",
    "    AND c.case_source_sys_origin = 'SMA_MONITOR_EVENTS' \n",
    "    AND s.type = 'CASE_TRANSITIONS_EVALUATED'\n",
    "LEFT JOIN gap_catalog.ads_src_20250901.case_status cs \n",
    "    ON c.cstat_key = cs.cstat_key \n",
    "    AND cs.cstat_valid_to = DATE('3000-01-01')\n",
    "WHERE SYS_EFFECTIVE_DATE = '2025-09-01'\n",
    "  and s.type IN (\n",
    "        'CASE_CREATED',\n",
    "        'CASE_COMPLETED',\n",
    "        'CASE_WAITING',\n",
    "        'CASE_RUNNING',\n",
    "        'CASE_UPDATED',\n",
    "        'CASE_PHASE_CHANGED',\n",
    "        'CASE_RECONCILE',\n",
    "        'CASE_TRANSITIONS_EVALUATED'\n",
    "    ) \n",
    "    AND get_json_object(s.JSONDATA, '$.theCase.casePhase') IS NOT NULL \n",
    "    AND (\n",
    "        c.case_key IS NULL \n",
    "        OR cs.CSTAT_SOURCE_ID = get_json_object(s.jsondata, '$.theCase.caseStatus')\n",
    "    );\n",
    "---- Verze 2\n",
    "SELECT \n",
    "    s.cidla, \n",
    "    CAST(get_json_object(s.JSONDATA, '$.theCase.casePhase') AS STRING) as casephase, \n",
    "    s.timestamp  \n",
    "FROM (select * from gap_catalog.ads_src_20250901.DLK_ADS_SMA_MONITOR_EVENTS_FULL s\n",
    "      WHERE SYS_EFFECTIVE_DATE = '2025-09-01') s\n",
    "LEFT JOIN gap_catalog.ads_src_20250901.cases c \n",
    "    ON c.case_source_id = s.cidla \n",
    "    AND c.case_valid_to = TO_DATE('3000-01-01', 'yyyy-MM-dd') \n",
    "    AND c.case_source_system_id = 'SMA' \n",
    "    AND c.case_source_sys_origin = 'SMA_MONITOR_EVENTS' \n",
    "    AND s.type = 'CASE_TRANSITIONS_EVALUATED'\n",
    "LEFT JOIN gap_catalog.ads_src_20250901.case_status cs \n",
    "    ON c.cstat_key = c :param_1 s.cstat_key \n",
    "    AND cs.cstat_valid_to = TO_DATE('3000-01-01', 'yyyy-MM-dd')\n",
    "WHERE s.type IN (\n",
    "        'CASE_CREATED',\n",
    "        'CASE_COMPLETED',\n",
    "        'CASE_WAITING',\n",
    "        'CASE_RUNNING',\n",
    "        'CASE_UPDATED',\n",
    "        'CASE_PHASE_CHANGED',\n",
    "        'CASE_RECONCILE',\n",
    "        'CASE_TRANSITIONS_EVALUATED'\n",
    "    ) \n",
    "    AND get_json_object(s.JSONDATA, '$.theCase.casePhase') IS NOT NULL \n",
    "    AND (\n",
    "        c.case_key IS NULL \n",
    "        OR cs.CSTAT_SOURCE_ID = get_json_object(s.jsondata, '$.theCase.caseStatus')\n",
    "    );\n"
   ]
  }
 ],
 "metadata": {
  "application/vnd.databricks.v1+notebook": {
   "computePreferences": null,
   "dashboards": [],
   "environmentMetadata": null,
   "inputWidgetPreferences": null,
   "language": "sql",
   "notebookMetadata": {
    "pythonIndentUnit": 4,
    "sqlQueryOptions": {
     "applyAutoLimit": true,
     "catalog": "cis_catalog",
     "schema": "default"
    }
   },
   "notebookName": "ADS_SMA_CPP_THECASE_PREPARE.dbquery.ipynb",
   "widgets": {
    "param_1": {
     "currentValue": "",
     "nuid": "c62fee35-2271-40ad-abe8-fe324e4acbf1",
     "typedWidgetInfo": {
      "autoCreated": false,
      "defaultValue": "",
      "label": null,
      "name": "param_1",
      "options": {
       "widgetDisplayType": "Text",
       "validationRegex": null
      },
      "parameterDataType": "String"
     },
     "widgetInfo": {
      "widgetType": "text",
      "defaultValue": "",
      "label": null,
      "name": "param_1",
      "options": {
       "widgetType": "text",
       "autoCreated": false,
       "validationRegex": null
      }
     }
    }
   }
  },
  "language_info": {
   "name": "sql"
  }
 },
 "nbformat": 4,
 "nbformat_minor": 0
}
