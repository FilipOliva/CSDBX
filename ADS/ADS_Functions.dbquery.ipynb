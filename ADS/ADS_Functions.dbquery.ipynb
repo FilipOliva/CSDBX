{
 "cells": [
  {
   "cell_type": "code",
   "execution_count": 0,
   "metadata": {
    "application/vnd.databricks.v1+cell": {
     "cellMetadata": {
      "byteLimit": 10485760,
      "rowLimit": 1000
     },
     "inputWidgets": {},
     "nuid": "6ed3171d-befb-4e94-a579-e70275158ac3",
     "showTitle": false,
     "tableResultSettingsMap": {},
     "title": ""
    }
   },
   "outputs": [],
   "source": [
    "CREATE OR REPLACE FUNCTION gap_catalog.ads_etl_owner.get_std_code_fn(input_value STRING)\n",
    "RETURNS STRING\n",
    "LANGUAGE SQL\n",
    "DETERMINISTIC\n",
    "COMMENT 'Standardizes code values by trimming whitespace and converting to uppercase'\n",
    "RETURN UPPER(TRIM(input_value));\n",
    "\n",
    "-- Test the function\n",
    "SELECT gap_catalog.ads_etl_owner.get_std_code_fn('  test value  ') as result;\n",
    "-- Expected output: 'TEST VALUE'"
   ]
  }
 ],
 "metadata": {
  "application/vnd.databricks.v1+notebook": {
   "computePreferences": null,
   "dashboards": [],
   "environmentMetadata": null,
   "inputWidgetPreferences": null,
   "language": "sql",
   "notebookMetadata": {
    "pythonIndentUnit": 4,
    "sqlQueryOptions": {
     "applyAutoLimit": true,
     "catalog": "cis_catalog",
     "schema": "default"
    }
   },
   "notebookName": "ADS_Functions.dbquery.ipynb",
   "widgets": {}
  },
  "language_info": {
   "name": "sql"
  }
 },
 "nbformat": 4,
 "nbformat_minor": 0
}
