{
 "cells": [
  {
   "cell_type": "code",
   "execution_count": 0,
   "metadata": {
    "application/vnd.databricks.v1+cell": {
     "cellMetadata": {
      "byteLimit": 10485760,
      "rowLimit": 1000
     },
     "inputWidgets": {},
     "nuid": "ae35fa5c-be0f-420f-b697-73e83b5127e2",
     "showTitle": false,
     "tableResultSettingsMap": {},
     "title": ""
    }
   },
   "outputs": [],
   "source": [
    "WITH base_accounts AS (\n",
    "  SELECT\n",
    "    a.acc_key,\n",
    "    a.acctp_key,\n",
    "    a.org_key as original_org_key,\n",
    "    COALESCE(l.loc_geo_latitude, 0) as lat,\n",
    "    COALESCE(l.loc_geo_longitude, 0) as lon,\n",
    "    COALESCE(l.loc_geo_jtsk_x, 0) as jtsk_x,\n",
    "    COALESCE(l.loc_geo_jtsk_y, 0) as jtsk_y,\n",
    "    -- Determine search radius based on Prague coordinates\n",
    "    CASE \n",
    "      WHEN COALESCE(l.loc_geo_latitude, 0) BETWEEN 49.9 AND 50.2 \n",
    "       AND COALESCE(l.loc_geo_longitude, 0) BETWEEN 14.1 AND 14.7 \n",
    "      THEN 0.025  -- Prague: ~1-2 km\n",
    "      ELSE 0.2    -- Other: ~10 km\n",
    "    END as search_radius\n",
    "  FROM gap_catalog.dwh_owner.all_accounts a\n",
    "  JOIN gap_catalog.dwh_owner.organizations o\n",
    "    ON a.org_key = o.org_key\n",
    "  LEFT JOIN gap_catalog.dwh_owner.locations l\n",
    "    ON o.loc_key = l.loc_key\n",
    "   AND o.loc_source_system_id = l.loc_source_system_id\n",
    "   AND l.loc_source_system_id = 'AD0'\n",
    "  WHERE a.org_key > 0\n",
    "    AND a.acctp_key NOT IN (9999)\n",
    "    AND (COALESCE(l.loc_geo_latitude, 0) != 0 OR COALESCE(l.loc_geo_longitude, 0) != 0)\n",
    "),\n",
    "nearest_orgs AS (\n",
    "  SELECT\n",
    "    ba.acc_key,\n",
    "    ba.acctp_key,\n",
    "    so.org_key,\n",
    "    -- Calculate Euclidean distance\n",
    "    ABS(SQRT(\n",
    "      (ba.jtsk_x - so.geo_jtsk_x) * (ba.jtsk_x - so.geo_jtsk_x) + \n",
    "      (ba.jtsk_y - so.geo_jtsk_y) * (ba.jtsk_y - so.geo_jtsk_y)\n",
    "    )) as distance,\n",
    "    ROW_NUMBER() OVER (\n",
    "      PARTITION BY ba.acc_key \n",
    "      ORDER BY ABS(SQRT(\n",
    "        (ba.jtsk_x - so.geo_jtsk_x) * (ba.jtsk_x - so.geo_jtsk_x) + \n",
    "        (ba.jtsk_y - so.geo_jtsk_y) * (ba.jtsk_y - so.geo_jtsk_y)\n",
    "      )), so.org_key\n",
    "    ) as rn\n",
    "  FROM base_accounts ba\n",
    "  JOIN gap_catalog.etl_owner.stg_hbr_org so\n",
    "    ON so.geo_ref_flag = 'Y'\n",
    "   -- Geographic bounding box filter for performance\n",
    "   AND so.geo_lat BETWEEN ba.lat - ba.search_radius AND ba.lat + ba.search_radius\n",
    "   AND so.geo_lon BETWEEN ba.lon - ba.search_radius AND ba.lon + ba.search_radius\n",
    ")\n",
    "SELECT\n",
    "  acc.acc_key,\n",
    "  acc.acctp_key,\n",
    "  acc.org_key\n",
    "FROM (\n",
    "  SELECT\n",
    "    ba.acc_key,\n",
    "    ba.acctp_key,\n",
    "    COALESCE(no.org_key, -1) as org_key\n",
    "  FROM base_accounts ba\n",
    "  LEFT JOIN nearest_orgs no\n",
    "    ON ba.acc_key = no.acc_key\n",
    "   AND no.rn = 1\n",
    ") acc\n",
    "JOIN gap_catalog.dwh_owner.organizations org\n",
    "  ON acc.org_key = org.org_key\n",
    " AND acc.org_key > 0;"
   ]
  }
 ],
 "metadata": {
  "application/vnd.databricks.v1+notebook": {
   "computePreferences": null,
   "dashboards": [],
   "environmentMetadata": null,
   "inputWidgetPreferences": null,
   "language": "sql",
   "notebookMetadata": {
    "sqlQueryOptions": {
     "applyAutoLimit": true,
     "catalog": "cis_catalog",
     "schema": "default"
    }
   },
   "notebookName": "HBR_Step2.dbquery.ipynb",
   "widgets": {}
  },
  "language_info": {
   "name": "sql"
  }
 },
 "nbformat": 4,
 "nbformat_minor": 0
}
