{
 "cells": [
  {
   "cell_type": "code",
   "execution_count": 0,
   "metadata": {
    "application/vnd.databricks.v1+cell": {
     "cellMetadata": {
      "byteLimit": 10485760,
      "rowLimit": 1000
     },
     "inputWidgets": {},
     "nuid": "f08c9273-cf07-409a-9156-83de6fc38aec",
     "showTitle": false,
     "tableResultSettingsMap": {},
     "title": ""
    }
   },
   "outputs": [],
   "source": [
    "MERGE INTO gap_catalog.log.performance_test_log AS target\n",
    "USING (\n",
    "    SELECT \n",
    "        'STG_SMA_CASE_PHASE_PROPERTIES' as table_name,\n",
    "        :p_process_key as process_key, \n",
    "        'MAIN' as source_sys_origin, \n",
    "        count(1) as INSERT_CNT,\n",
    "        0 as UPDATE_CNT\n",
    "    FROM gap_catalog.ads_etl_owner.STG_SMA_CASE_PHASE_PROPERTIES\n",
    "    UNION ALL\n",
    "    SELECT \n",
    "        'STG_SMA_CASE_PHASE_PROPERTIES_THECASE' as table_name,\n",
    "        :p_process_key as process_key, \n",
    "        'MAIN' as source_sys_origin, \n",
    "        count(1) as INSERT_CNT,\n",
    "        0 as UPDATE_CNT\n",
    "    FROM gap_catalog.ads_etl_owner.STG_SMA_CASE_PHASE_PROPERTIES_THECASE\n",
    "    UNION ALL\n",
    "    select \n",
    "        'SMA_CASE_PHASE_PROPERTIES' as table_name,\n",
    "        :p_process_key as process_key, \n",
    "        'MAIN' as source_sys_origin, \n",
    "        count(1) as INSERT_CNT,\n",
    "        0 as UPDATE_CNT\n",
    "    FROM gap_catalog.ads_owner.SMA_CASE_PHASE_PROPERTIES\n",
    "    UNION ALL\n",
    "    SELECT\n",
    "            'PROCESS_EVENTS' as table_name,\n",
    "            :p_process_key as process_key, \n",
    "            'MAIN' as source_sys_origin, \n",
    "            SUM(CASE WHEN PROCE_INSERT_PROCESS_KEY = :p_process_key THEN 1 ELSE 0 END) as INSERT_CNT,\n",
    "            SUM(CASE WHEN PROCE_UPDATE_PROCESS_KEY = :p_process_key THEN 1 ELSE 0 END) as UPDATE_CNT\n",
    "    FROM gap_catalog.ads_owner.PROCESS_EVENTS\n",
    "    WHERE (PROCE_UPDATE_PROCESS_KEY = :p_process_key OR PROCE_INSERT_PROCESS_KEY = :p_process_key)\n",
    "    UNION ALL\n",
    "    select \n",
    "            'CASE_PHASE_PROPERTIES' as table_name,\n",
    "            :p_process_key as process_key, \n",
    "            'MAIN' as source_sys_origin, \n",
    "            SUM(CASE WHEN CPPROP_INSERT_PROCESS_KEY = :p_process_key THEN 1 ELSE 0 END) as INSERT_CNT,\n",
    "            SUM(CASE WHEN CPPROP_UPDATE_PROCESS_KEY = :p_process_key THEN 1 ELSE 0 END) as UPDATE_CNT\n",
    "    FROM gap_catalog.ads_owner.CASE_PHASE_PROPERTIES\n",
    "    WHERE (CPPROP_UPDATE_PROCESS_KEY = :p_process_key OR CPPROP_INSERT_PROCESS_KEY = :p_process_key)\n",
    "    AND CPPTP_KEY <> 225\n",
    "    AND CTP_KEY <> 1429\n",
    "    AND CPPTP_KEY NOT IN (\n",
    "        select CPPTP_KEY FROM gap_catalog.ads_owner.CASE_PHASE_PROPERTY_TYPES CPPTP\n",
    "        WHERE CPPTP.CPPTP_SOURCE_SYSTEM_ID = 'RDS'\n",
    "                            AND CPPTP.CPPTP_SOURCE_SYS_ORIGIN = 'RDS_ANALYTICALCPPROPERTYTYPES'\n",
    "                            AND CPPTP.CPPTP_VALID_TO= DATE'3000-01-01')\n",
    "    UNION ALL\n",
    "    select \n",
    "            'CASE_PHASE_PROPERTIES' as table_name,\n",
    "            :p_process_key as process_key, \n",
    "            'HUMANTASK' as source_sys_origin, \n",
    "            SUM(CASE WHEN CPPROP_INSERT_PROCESS_KEY = :p_process_key THEN 1 ELSE 0 END) as INSERT_CNT,\n",
    "            SUM(CASE WHEN CPPROP_UPDATE_PROCESS_KEY = :p_process_key THEN 1 ELSE 0 END) as UPDATE_CNT\n",
    "    FROM gap_catalog.ads_owner.CASE_PHASE_PROPERTIES\n",
    "    WHERE (CPPROP_UPDATE_PROCESS_KEY = :p_process_key OR CPPROP_INSERT_PROCESS_KEY = :p_process_key)\n",
    "    AND CPPTP_KEY IN (\n",
    "        select CPPTP_KEY FROM gap_catalog.ads_owner.CASE_PHASE_PROPERTY_TYPES CPPTP\n",
    "        WHERE CPPTP.CPPTP_SOURCE_SYSTEM_ID = 'RDS'\n",
    "                            AND CPPTP.CPPTP_SOURCE_SYS_ORIGIN = 'RDS_ANALYTICALCPPROPERTYTYPES'\n",
    "                            AND CPPTP.CPPTP_VALID_TO= DATE'3000-01-01')\n",
    "    UNION ALL\n",
    "    select \n",
    "            'CASE_PHASE_PROPERTIES' as table_name,\n",
    "            :p_process_key as process_key, \n",
    "            'POT_OWN' as source_sys_origin, \n",
    "            SUM(CASE WHEN CPPROP_INSERT_PROCESS_KEY = :p_process_key THEN 1 ELSE 0 END) as INSERT_CNT,\n",
    "            SUM(CASE WHEN CPPROP_UPDATE_PROCESS_KEY = :p_process_key THEN 1 ELSE 0 END) as UPDATE_CNT\n",
    "    FROM gap_catalog.ads_owner.CASE_PHASE_PROPERTIES\n",
    "    WHERE (CPPROP_UPDATE_PROCESS_KEY = :p_process_key OR CPPROP_INSERT_PROCESS_KEY = :p_process_key)\n",
    "    AND CPPTP_KEY = 225\n",
    "    UNION ALL\n",
    "    select \n",
    "            'CASE_PHASE_PROPERTIES' as table_name,\n",
    "            :p_process_key as process_key, \n",
    "            'BUSY_BANKING' as source_sys_origin, \n",
    "            SUM(CASE WHEN CPPROP_INSERT_PROCESS_KEY = :p_process_key THEN 1 ELSE 0 END) as INSERT_CNT,\n",
    "            SUM(CASE WHEN CPPROP_UPDATE_PROCESS_KEY = :p_process_key THEN 1 ELSE 0 END) as UPDATE_CNT\n",
    "    FROM gap_catalog.ads_owner.CASE_PHASE_PROPERTIES\n",
    "    WHERE (CPPROP_UPDATE_PROCESS_KEY = :p_process_key OR CPPROP_INSERT_PROCESS_KEY = :p_process_key)\n",
    "    AND CTP_KEY = 1429\n",
    ") AS src\n",
    "ON target.process_key = src.process_key \n",
    "   AND target.target_table = src.table_name \n",
    "   AND target.source_sys_origin = src.source_sys_origin\n",
    "WHEN MATCHED AND (target.target_insert_count IS NULL AND target.target_update_count IS NULL) THEN \n",
    "    UPDATE SET \n",
    "        target_insert_count = src.INSERT_CNT,\n",
    "        target_update_count = src.UPDATE_CNT,\n",
    "        updated_at = CURRENT_TIMESTAMP();"
   ]
  }
 ],
 "metadata": {
  "application/vnd.databricks.v1+notebook": {
   "computePreferences": null,
   "dashboards": [],
   "environmentMetadata": null,
   "inputWidgetPreferences": null,
   "language": "sql",
   "notebookMetadata": {
    "pythonIndentUnit": 4,
    "sqlQueryOptions": {
     "applyAutoLimit": true,
     "catalog": "cis_catalog",
     "schema": "default"
    }
   },
   "notebookName": "ETL_ADS_SMA_Count_Changes.dbquery.ipynb",
   "widgets": {
    "p_process_key": {
     "currentValue": "",
     "nuid": "33b69630-21ad-4818-a95a-98a5712c35d1",
     "typedWidgetInfo": {
      "autoCreated": false,
      "defaultValue": "-999",
      "label": "p_process_key",
      "name": "p_process_key",
      "options": {
       "widgetDisplayType": "Text",
       "validationRegex": null
      },
      "parameterDataType": "String"
     },
     "widgetInfo": {
      "widgetType": "text",
      "defaultValue": "-999",
      "label": "p_process_key",
      "name": "p_process_key",
      "options": {
       "widgetType": "text",
       "autoCreated": false,
       "validationRegex": null
      }
     }
    }
   }
  },
  "language_info": {
   "name": "sql"
  }
 },
 "nbformat": 4,
 "nbformat_minor": 0
}
