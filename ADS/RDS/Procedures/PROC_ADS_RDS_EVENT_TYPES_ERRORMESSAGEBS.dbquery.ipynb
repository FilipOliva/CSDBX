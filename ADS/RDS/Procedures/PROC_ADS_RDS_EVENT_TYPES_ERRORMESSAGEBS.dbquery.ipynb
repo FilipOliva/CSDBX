{
 "cells": [
  {
   "cell_type": "code",
   "execution_count": 0,
   "metadata": {
    "application/vnd.databricks.v1+cell": {
     "cellMetadata": {},
     "inputWidgets": {},
     "nuid": "d3f1160a-b04f-46d8-b8f1-94a30c2f97d1",
     "showTitle": false,
     "tableResultSettingsMap": {},
     "title": ""
    }
   },
   "outputs": [],
   "source": [
    "CALL gap_catalog.ads_etl_owner.sp_ADS_RDS_EVENT_TYPES_ERRORMESSAGEBS(\n",
    "    :p_load_date, \n",
    "    :p_process_key\n",
    ");"
   ]
  }
 ],
 "metadata": {
  "application/vnd.databricks.v1+notebook": {
   "computePreferences": null,
   "dashboards": [],
   "environmentMetadata": null,
   "inputWidgetPreferences": null,
   "language": "sql",
   "notebookMetadata": {
    "sqlQueryOptions": {
     "applyAutoLimit": true,
     "catalog": "cis_catalog",
     "schema": "ads_src_20250901"
    }
   },
   "notebookName": "PROC_ADS_RDS_EVENT_TYPES_ERRORMESSAGEBS.dbquery.ipynb",
   "widgets": {
    "p_load_date": {
     "currentValue": "2025-08-14",
     "nuid": "9eff2a76-389e-477d-86a2-cf32f6c14813",
     "typedWidgetInfo": {
      "autoCreated": false,
      "defaultValue": "2025-08-14",
      "label": "p_load_date",
      "name": "p_load_date",
      "options": {
       "widgetDisplayType": "Text",
       "validationRegex": null
      },
      "parameterDataType": "String"
     },
     "widgetInfo": {
      "widgetType": "text",
      "defaultValue": "2025-08-14",
      "label": "p_load_date",
      "name": "p_load_date",
      "options": {
       "widgetType": "text",
       "autoCreated": false,
       "validationRegex": null
      }
     }
    },
    "p_process_key": {
     "currentValue": "-999",
     "nuid": "fbd8e8c4-24f8-4ce5-825f-3a778f25121d",
     "typedWidgetInfo": {
      "autoCreated": false,
      "defaultValue": "-999",
      "label": "p_process_key",
      "name": "p_process_key",
      "options": {
       "widgetDisplayType": "Text",
       "validationRegex": null
      },
      "parameterDataType": "Integer"
     },
     "widgetInfo": {
      "widgetType": "text",
      "defaultValue": "-999",
      "label": "p_process_key",
      "name": "p_process_key",
      "options": {
       "widgetType": "text",
       "autoCreated": false,
       "validationRegex": null
      }
     }
    }
   }
  },
  "language_info": {
   "name": "sql"
  }
 },
 "nbformat": 4,
 "nbformat_minor": 0
}
