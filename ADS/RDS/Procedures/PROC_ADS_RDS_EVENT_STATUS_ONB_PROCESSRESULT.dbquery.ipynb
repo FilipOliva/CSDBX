{
 "cells": [
  {
   "cell_type": "code",
   "execution_count": 0,
   "metadata": {
    "application/vnd.databricks.v1+cell": {
     "cellMetadata": {},
     "inputWidgets": {},
     "nuid": "1b0278cd-a827-498d-8d40-1ada1946b745",
     "showTitle": false,
     "tableResultSettingsMap": {},
     "title": ""
    }
   },
   "outputs": [],
   "source": [
    "CALL gap_catalog.ads_etl_owner.sp_ADS_RDS_EVENT_STATUS_ONB_PROCESSRESULT(\n",
    "    :p_load_date, \n",
    "    :p_process_key\n",
    ");"
   ]
  }
 ],
 "metadata": {
  "application/vnd.databricks.v1+notebook": {
   "computePreferences": null,
   "dashboards": [],
   "environmentMetadata": null,
   "inputWidgetPreferences": null,
   "language": "sql",
   "notebookMetadata": {
    "pythonIndentUnit": 4,
    "sqlQueryOptions": {
     "applyAutoLimit": true,
     "catalog": "cis_catalog",
     "schema": "ads_src_20250901"
    }
   },
   "notebookName": "PROC_ADS_RDS_EVENT_STATUS_ONB_PROCESSRESULT.dbquery.ipynb",
   "widgets": {
    "p_load_date": {
     "currentValue": "2025-08-14",
     "nuid": "06953dfb-c47d-4113-9cf5-c64b389cacae",
     "typedWidgetInfo": {
      "autoCreated": false,
      "defaultValue": "2025-08-14",
      "label": "p_load_date",
      "name": "p_load_date",
      "options": {
       "widgetDisplayType": "Text",
       "validationRegex": null
      },
      "parameterDataType": "String"
     },
     "widgetInfo": {
      "widgetType": "text",
      "defaultValue": "2025-08-14",
      "label": "p_load_date",
      "name": "p_load_date",
      "options": {
       "widgetType": "text",
       "autoCreated": false,
       "validationRegex": null
      }
     }
    },
    "p_process_key": {
     "currentValue": "-999",
     "nuid": "7a60f730-d32b-4047-b9e9-4a97f54432fe",
     "typedWidgetInfo": {
      "autoCreated": false,
      "defaultValue": "-999",
      "label": "p_process_key",
      "name": "p_process_key",
      "options": {
       "widgetDisplayType": "Text",
       "validationRegex": null
      },
      "parameterDataType": "Integer"
     },
     "widgetInfo": {
      "widgetType": "text",
      "defaultValue": "-999",
      "label": "p_process_key",
      "name": "p_process_key",
      "options": {
       "widgetType": "text",
       "autoCreated": false,
       "validationRegex": null
      }
     }
    }
   }
  },
  "language_info": {
   "name": "sql"
  }
 },
 "nbformat": 4,
 "nbformat_minor": 0
}
