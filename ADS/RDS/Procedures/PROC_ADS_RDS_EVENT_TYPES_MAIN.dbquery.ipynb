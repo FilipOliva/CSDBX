{
 "cells": [
  {
   "cell_type": "code",
   "execution_count": 0,
   "metadata": {
    "application/vnd.databricks.v1+cell": {
     "cellMetadata": {},
     "inputWidgets": {},
     "nuid": "bf74f494-85f2-439a-8f75-39a9df633e0b",
     "showTitle": false,
     "tableResultSettingsMap": {},
     "title": ""
    }
   },
   "outputs": [],
   "source": [
    "CALL gap_catalog.ads_etl_owner.sp_ADS_RDS_EVENT_TYPES_MAIN(\n",
    "    :p_load_date, \n",
    "    :p_process_key\n",
    ");"
   ]
  }
 ],
 "metadata": {
  "application/vnd.databricks.v1+notebook": {
   "computePreferences": null,
   "dashboards": [],
   "environmentMetadata": null,
   "inputWidgetPreferences": null,
   "language": "sql",
   "notebookMetadata": {
    "sqlQueryOptions": {
     "applyAutoLimit": true,
     "catalog": "cis_catalog",
     "schema": "ads_src_20250901"
    }
   },
   "notebookName": "PROC_ADS_RDS_EVENT_TYPES_MAIN.dbquery.ipynb",
   "widgets": {
    "p_load_date": {
     "currentValue": "2025-08-14",
     "nuid": "659d8bdb-c770-48df-ae10-89573176e79e",
     "typedWidgetInfo": {
      "autoCreated": false,
      "defaultValue": "2025-08-14",
      "label": "p_load_date",
      "name": "p_load_date",
      "options": {
       "widgetDisplayType": "Text",
       "validationRegex": null
      },
      "parameterDataType": "String"
     },
     "widgetInfo": {
      "widgetType": "text",
      "defaultValue": "2025-08-14",
      "label": "p_load_date",
      "name": "p_load_date",
      "options": {
       "widgetType": "text",
       "autoCreated": false,
       "validationRegex": null
      }
     }
    },
    "p_process_key": {
     "currentValue": "-999",
     "nuid": "f3aa68f3-1bed-4bc3-b64e-d139d61c3acb",
     "typedWidgetInfo": {
      "autoCreated": false,
      "defaultValue": "-999",
      "label": "p_process_key",
      "name": "p_process_key",
      "options": {
       "widgetDisplayType": "Text",
       "validationRegex": null
      },
      "parameterDataType": "Integer"
     },
     "widgetInfo": {
      "widgetType": "text",
      "defaultValue": "-999",
      "label": "p_process_key",
      "name": "p_process_key",
      "options": {
       "widgetType": "text",
       "autoCreated": false,
       "validationRegex": null
      }
     }
    }
   }
  },
  "language_info": {
   "name": "sql"
  }
 },
 "nbformat": 4,
 "nbformat_minor": 0
}
