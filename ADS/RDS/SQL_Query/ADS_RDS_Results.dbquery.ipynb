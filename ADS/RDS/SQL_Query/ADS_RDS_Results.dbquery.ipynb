{
 "cells": [
  {
   "cell_type": "code",
   "execution_count": 0,
   "metadata": {
    "application/vnd.databricks.v1+cell": {
     "cellMetadata": {
      "byteLimit": 10485760,
      "rowLimit": 1000
     },
     "inputWidgets": {},
     "nuid": "bef45ba8-c215-44ff-b6ed-5045d2a4ec95",
     "showTitle": false,
     "tableResultSettingsMap": {},
     "title": ""
    }
   },
   "outputs": [],
   "source": [
    "SELECT test_case_name, step_name, p_load_date\n",
    ",start_time, end_time, DATEDIFF(SECOND, start_time, end_time) as Execution_time_seconds\n",
    ",target_insert_count, target_update_count\n",
    ", process_key\n",
    "FROM gap_catalog.log.performance_test_log \n",
    "where status = 'COMPLETED'\n",
    "order by step_name,p_load_date, start_time desc;\n",
    "\n",
    "--------------------------------------------------------------------------------------\n",
    "/******* event_status *******/\n",
    "select 'event_status', est_source_sys_origin, count(1)\n",
    "from gap_catalog.ads_owner.event_status\n",
    "where 1=1\n",
    "--and est_insert_process_key = 999\n",
    "group by est_source_sys_origin\n",
    ";\n",
    "\n",
    "--------------------------------------------------------------------------------------\n",
    "/******* event_types *******/\n",
    "select 'event_types', evetp_source_sys_origin, \n",
    "EVETP_UPDATE_PROCESS_KEY,\n",
    "count(1)\n",
    "from gap_catalog.ads_owner.event_types\n",
    "where 1=1\n",
    "group by evetp_source_sys_origin, EVETP_UPDATE_PROCESS_KEY\n",
    "order by 1;\n",
    "\n",
    "--------------------------------------------------------------------------------------\n",
    "/******* case_object_status *******/\n",
    "select 'case_object_status', cos_source_sys_origin, count(1)\n",
    "from gap_catalog.ads_owner.case_object_status\n",
    "where 1=1\n",
    "group by cos_source_sys_origin\n",
    "order by 1;\n"
   ]
  }
 ],
 "metadata": {
  "application/vnd.databricks.v1+notebook": {
   "computePreferences": null,
   "dashboards": [],
   "environmentMetadata": null,
   "inputWidgetPreferences": null,
   "language": "sql",
   "notebookMetadata": {
    "pythonIndentUnit": 4,
    "sqlQueryOptions": {
     "applyAutoLimit": true,
     "catalog": "cis_catalog",
     "schema": "default"
    }
   },
   "notebookName": "ADS_RDS_Results.dbquery.ipynb",
   "widgets": {
    "p_process_key": {
     "currentValue": "-999",
     "nuid": "10bf8743-f0dd-4327-ba23-14b0ed6d26c6",
     "typedWidgetInfo": {
      "autoCreated": false,
      "defaultValue": "-999",
      "label": "p_process_key",
      "name": "p_process_key",
      "options": {
       "widgetDisplayType": "Text",
       "validationRegex": null
      },
      "parameterDataType": "String"
     },
     "widgetInfo": {
      "widgetType": "text",
      "defaultValue": "-999",
      "label": "p_process_key",
      "name": "p_process_key",
      "options": {
       "widgetType": "text",
       "autoCreated": false,
       "validationRegex": null
      }
     }
    }
   }
  },
  "language_info": {
   "name": "sql"
  }
 },
 "nbformat": 4,
 "nbformat_minor": 0
}
