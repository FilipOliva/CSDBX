{
 "cells": [
  {
   "cell_type": "code",
   "execution_count": 0,
   "metadata": {
    "application/vnd.databricks.v1+cell": {
     "cellMetadata": {
      "byteLimit": 10485760,
      "rowLimit": 1000
     },
     "inputWidgets": {},
     "nuid": "bef45ba8-c215-44ff-b6ed-5045d2a4ec95",
     "showTitle": false,
     "tableResultSettingsMap": {},
     "title": ""
    }
   },
   "outputs": [],
   "source": [
    "SELECT test_case_name, step_name, p_load_date\n",
    ",start_time, end_time, DATEDIFF(SECOND, start_time, end_time) as Execution_time_seconds\n",
    ",target_insert_count, target_update_count\n",
    ", process_key\n",
    "FROM gap_catalog.log.performance_test_log \n",
    "where status = 'COMPLETED'\n",
    "and p_load_date = '2025-08-15'\n",
    "order by step_name,p_load_date, process_key;\n",
    "\n",
    "select * from gap_catalog.log.performance_test_log ;\n",
    "\n",
    "SELECT test_case_name, p_load_date, process_key, \n",
    "min (start_time) first_start, max(end_time) last_end, DATEDIFF(SECOND, min (start_time), max(end_time)) as Elapsed_seconds,\n",
    "sum(target_insert_count), sum(target_update_count)\n",
    "FROM gap_catalog.log.performance_test_log \n",
    "where status = 'COMPLETED'\n",
    "and p_load_date <> '2025-08-18'\n",
    "group by  test_case_name, p_load_date, process_key\n",
    "--order by test_case_name,p_load_date,process_key;\n",
    "order by test_case_name,first_start;\n",
    "--------------------------------------------------------------------------------------\n",
    "/******* event_status *******/\n",
    "select 'event_status', est_source_sys_origin, count(1)\n",
    "from gap_catalog.ads_owner.event_status\n",
    "where 1=1\n",
    "--and est_insert_process_key = 999\n",
    "group by est_source_sys_origin\n",
    ";\n",
    "\n",
    "select est_update_process_key,count(1)\n",
    "from gap_catalog.ads_owner.event_status e\n",
    "where 1=1\n",
    "group by est_update_process_key\n",
    "\n",
    ";\n",
    "\n",
    "\n",
    "--------------------------------------------------------------------------------------\n",
    "/******* event_types *******/\n",
    "select 'event_types', evetp_source_sys_origin, \n",
    "EVETP_UPDATE_PROCESS_KEY,\n",
    "count(1)\n",
    "from gap_catalog.ads_owner.event_types\n",
    "where 1=1\n",
    "group by evetp_source_sys_origin, EVETP_UPDATE_PROCESS_KEY\n",
    "order by 1;\n",
    "\n",
    "--------------------------------------------------------------------------------------\n",
    "/******* case_object_status *******/\n",
    "select 'case_object_status', cos_source_sys_origin, count(1)\n",
    "from gap_catalog.ads_owner.case_object_status\n",
    "where 1=1\n",
    "group by cos_source_sys_origin\n",
    "order by 1;\n"
   ]
  }
 ],
 "metadata": {
  "application/vnd.databricks.v1+notebook": {
   "computePreferences": null,
   "dashboards": [],
   "environmentMetadata": null,
   "inputWidgetPreferences": null,
   "language": "sql",
   "notebookMetadata": {
    "pythonIndentUnit": 4,
    "sqlQueryOptions": {
     "applyAutoLimit": true,
     "catalog": "cis_catalog",
     "schema": "default"
    }
   },
   "notebookName": "ADS_RDS_Results.dbquery.ipynb",
   "widgets": {
    "p_process_key": {
     "currentValue": "-999",
     "nuid": "10bf8743-f0dd-4327-ba23-14b0ed6d26c6",
     "typedWidgetInfo": {
      "autoCreated": false,
      "defaultValue": "-999",
      "label": "p_process_key",
      "name": "p_process_key",
      "options": {
       "widgetDisplayType": "Text",
       "validationRegex": null
      },
      "parameterDataType": "String"
     },
     "widgetInfo": {
      "widgetType": "text",
      "defaultValue": "-999",
      "label": "p_process_key",
      "name": "p_process_key",
      "options": {
       "widgetType": "text",
       "autoCreated": false,
       "validationRegex": null
      }
     }
    }
   }
  },
  "language_info": {
   "name": "sql"
  }
 },
 "nbformat": 4,
 "nbformat_minor": 0
}
