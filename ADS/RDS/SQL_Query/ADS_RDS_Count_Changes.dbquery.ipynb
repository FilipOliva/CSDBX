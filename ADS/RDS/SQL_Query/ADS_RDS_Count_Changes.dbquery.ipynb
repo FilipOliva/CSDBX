{
 "cells": [
  {
   "cell_type": "code",
   "execution_count": 0,
   "metadata": {
    "application/vnd.databricks.v1+cell": {
     "cellMetadata": {},
     "inputWidgets": {},
     "nuid": "dd5e5fbe-4566-4145-91e5-8d374e77dbfc",
     "showTitle": false,
     "tableResultSettingsMap": {},
     "title": ""
    }
   },
   "outputs": [],
   "source": [
    "DECLARE OR REPLACE VARIABLE p_process_key STRING DEFAULT ':p_process_key';\n",
    "\n",
    "MERGE INTO gap_catalog.log.performance_test_log AS target\n",
    "USING (\n",
    "    -- EVENT_TYPES table\n",
    "    SELECT \n",
    "        'EVENT_TYPES' as table_name,\n",
    "        p_process_key as process_key, \n",
    "        evetp_source_sys_origin as source_sys_origin, \n",
    "        SUM(CASE WHEN EVETP_INSERT_PROCESS_KEY = p_process_key THEN 1 ELSE 0 END) as INSERT_CNT,\n",
    "        SUM(CASE WHEN EVETP_UPDATE_PROCESS_KEY = p_process_key THEN 1 ELSE 0 END) as UPDATE_CNT\n",
    "    FROM gap_catalog.ads_owner.event_types\n",
    "    WHERE (EVETP_UPDATE_PROCESS_KEY = p_process_key OR EVETP_INSERT_PROCESS_KEY = p_process_key)\n",
    "    GROUP BY evetp_source_sys_origin\n",
    "    UNION ALL\n",
    "    -- EVENT_STATUS table\n",
    "    SELECT \n",
    "        'EVENT_STATUS' as table_name,\n",
    "        p_process_key as process_key, \n",
    "        est_source_sys_origin as source_sys_origin, \n",
    "        SUM(CASE WHEN EST_INSERT_PROCESS_KEY = p_process_key THEN 1 ELSE 0 END) as INSERT_CNT,\n",
    "        SUM(CASE WHEN EST_UPDATE_PROCESS_KEY = p_process_key THEN 1 ELSE 0 END) as UPDATE_CNT\n",
    "    FROM gap_catalog.ads_owner.event_status\n",
    "    WHERE (EST_UPDATE_PROCESS_KEY = p_process_key OR EST_INSERT_PROCESS_KEY = p_process_key)\n",
    "    GROUP BY est_source_sys_origin\n",
    "    \n",
    "    UNION ALL\n",
    "    \n",
    "    -- CASE_OBJECT_STATUS table\n",
    "    SELECT \n",
    "        'CASE_OBJECT_STATUS' as table_name,\n",
    "        p_process_key as process_key, \n",
    "        cos_source_sys_origin as source_sys_origin, \n",
    "        SUM(CASE WHEN COS_INSERT_PROCESS_KEY = p_process_key THEN 1 ELSE 0 END) as INSERT_CNT,\n",
    "        SUM(CASE WHEN COS_UPDATE_PROCESS_KEY = p_process_key THEN 1 ELSE 0 END) as UPDATE_CNT\n",
    "    FROM gap_catalog.ads_owner.case_object_status\n",
    "    WHERE (COS_UPDATE_PROCESS_KEY = p_process_key OR COS_INSERT_PROCESS_KEY = p_process_key)\n",
    "    GROUP BY cos_source_sys_origin\n",
    "    \n",
    ") AS src\n",
    "ON target.process_key = src.process_key \n",
    "   AND target.target_table = src.table_name \n",
    "   AND target.source_sys_origin = src.source_sys_origin\n",
    "WHEN MATCHED AND (target.target_insert_count IS NULL AND target.target_update_count IS NULL) THEN \n",
    "    UPDATE SET \n",
    "        target_insert_count = src.INSERT_CNT,\n",
    "        target_update_count = src.UPDATE_CNT,\n",
    "        updated_at = CURRENT_TIMESTAMP();"
   ]
  }
 ],
 "metadata": {
  "application/vnd.databricks.v1+notebook": {
   "computePreferences": null,
   "dashboards": [],
   "environmentMetadata": null,
   "inputWidgetPreferences": null,
   "language": "sql",
   "notebookMetadata": {
    "pythonIndentUnit": 4,
    "sqlQueryOptions": {
     "applyAutoLimit": true,
     "catalog": "cis_catalog",
     "schema": "default"
    }
   },
   "notebookName": "ADS_RDS_Count_Changes.dbquery.ipynb",
   "widgets": {
    "p_process_key": {
     "currentValue": "-999",
     "nuid": "f30e099b-1621-4d4e-9c95-472b813914aa",
     "typedWidgetInfo": {
      "autoCreated": false,
      "defaultValue": "-999",
      "label": "",
      "name": "p_process_key",
      "options": {
       "widgetDisplayType": "Text",
       "validationRegex": null
      },
      "parameterDataType": "String"
     },
     "widgetInfo": {
      "widgetType": "text",
      "defaultValue": "-999",
      "label": "",
      "name": "p_process_key",
      "options": {
       "widgetType": "text",
       "autoCreated": false,
       "validationRegex": null
      }
     }
    }
   }
  },
  "language_info": {
   "name": "sql"
  }
 },
 "nbformat": 4,
 "nbformat_minor": 0
}
