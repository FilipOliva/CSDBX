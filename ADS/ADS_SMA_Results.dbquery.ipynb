{
 "cells": [
  {
   "cell_type": "code",
   "execution_count": 0,
   "metadata": {
    "application/vnd.databricks.v1+cell": {
     "cellMetadata": {
      "byteLimit": 10485760,
      "rowLimit": 64000
     },
     "inputWidgets": {},
     "nuid": "7cedd354-97eb-4b35-b930-8f1388ab3e13",
     "showTitle": false,
     "tableResultSettingsMap": {},
     "title": ""
    }
   },
   "outputs": [],
   "source": [
    "SELECT \n",
    "test_case_name, step_name, p_load_date,\n",
    "target_table, source_sys_origin\n",
    ",start_time, end_time, DATEDIFF(SECOND, start_time, end_time) as Execution_time_seconds\n",
    ",target_insert_count, target_update_count\n",
    ", process_key\n",
    "FROM gap_catalog.log.performance_test_log \n",
    "where 1=1\n",
    "--and status = 'COMPLETED'\n",
    "--and p_load_date = '2025-08-15'\n",
    "and test_case_name = 'ADS_SMA_PROC'\n",
    "and process_key = -20250901500\n",
    "--order by step_name,p_load_date, process_key\n",
    "order by start_time desc\n",
    ";\n",
    "\n",
    "SELECT \n",
    "--test_case_name,\n",
    "step_name,source_sys_origin,substr(process_key,10,1) csize,\n",
    "round(AVG(DATEDIFF(SECOND, start_time, end_time))/60,1)  as Execution_MINUTES,\n",
    "round(AVG(DATEDIFF(SECOND, start_time, end_time))) as Execution_SECOND\n",
    "--,target_insert_count, target_update_count\n",
    "FROM gap_catalog.log.performance_test_log \n",
    "where 1=1\n",
    "and status = 'COMPLETED'\n",
    "and test_case_name = 'ADS_SMA_PROC'\n",
    "group by test_case_name,step_name,source_sys_origin,substr(process_key,10,1)\n",
    "order by test_case_name,step_name,source_sys_origin, csize\n",
    ";\n",
    "\n",
    "\n",
    "SELECT * from gap_catalog.log.performance_test_log \n",
    "--where process_key = -20250901200\n",
    ";\n",
    "where 1=1 \n",
    "and test_case_name = 'ADS_SMA_PROC' \n",
    "and target_table = 'STG_SMA_CASE_PHASE_PROPERTIES_THECASE'\n",
    "order by start_time desc;\n",
    "\n",
    "--delete from gap_catalog.log.performance_test_log where test_case_name = 'ADS_SMA_PROC' and process_key= -20250901500;\n",
    "\n",
    "SELECT test_case_name, p_load_date, process_key, \n",
    "min (start_time) first_start, max(end_time) last_end, DATEDIFF(SECOND, min (start_time), max(end_time)) as Elapsed_seconds,\n",
    "sum(target_insert_count), sum(target_update_count)\n",
    "FROM gap_catalog.log.performance_test_log \n",
    "where status = 'COMPLETED'\n",
    "and test_case_name = 'ADS_SMA_PROC'\n",
    "--and p_load_date = '2025-09-01'\n",
    "group by  test_case_name, p_load_date, process_key\n",
    "--order by test_case_name,p_load_date,process_key;\n",
    "order by test_case_name,first_start;\n",
    "\n",
    "----------------------------------------------------- COUNTS-----------------------------------------------------------------------------------------------------------------------\n",
    "-- process_key = -20250901400 -> tento beh nebrat bylo Canceled a nedelal se Rollback"
   ]
  }
 ],
 "metadata": {
  "application/vnd.databricks.v1+notebook": {
   "computePreferences": null,
   "dashboards": [],
   "environmentMetadata": null,
   "inputWidgetPreferences": null,
   "language": "sql",
   "notebookMetadata": {
    "pythonIndentUnit": 4,
    "sqlQueryOptions": {
     "applyAutoLimit": false,
     "catalog": "cis_catalog",
     "schema": "default"
    }
   },
   "notebookName": "ADS_SMA_Results.dbquery.ipynb",
   "widgets": {}
  },
  "language_info": {
   "name": "sql"
  }
 },
 "nbformat": 4,
 "nbformat_minor": 0
}
