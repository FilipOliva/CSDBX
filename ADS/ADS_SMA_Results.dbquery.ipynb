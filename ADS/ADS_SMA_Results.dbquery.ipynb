{
 "cells": [
  {
   "cell_type": "code",
   "execution_count": 0,
   "metadata": {
    "application/vnd.databricks.v1+cell": {
     "cellMetadata": {
      "byteLimit": 10485760,
      "rowLimit": 64000
     },
     "inputWidgets": {},
     "nuid": "7cedd354-97eb-4b35-b930-8f1388ab3e13",
     "showTitle": false,
     "tableResultSettingsMap": {
      "0": {
       "dataGridStateBlob": "{\"version\":1,\"tableState\":{\"columnPinning\":{\"left\":[\"#row_number#\"],\"right\":[]},\"columnSizing\":{\"step_name\":368},\"columnVisibility\":{}},\"settings\":{\"columns\":{}},\"syncTimestamp\":1760563360373}",
       "filterBlob": null,
       "queryPlanFiltersBlob": null,
       "tableResultIndex": 0
      }
     },
     "title": ""
    }
   },
   "outputs": [],
   "source": [
    "SELECT \n",
    "test_case_name, step_name, p_load_date,\n",
    "target_table, source_sys_origin\n",
    ",start_time, end_time, DATEDIFF(SECOND, start_time, end_time) as Execution_time_seconds\n",
    ",target_insert_count, target_update_count\n",
    ", process_key\n",
    "FROM gap_catalog.log.performance_test_log \n",
    "where 1=1\n",
    "--and status = 'COMPLETED'\n",
    "--and p_load_date = '2025-08-15'\n",
    "and test_case_name = 'ADS_SMA_PROC'\n",
    "--order by step_name,p_load_date, process_key\n",
    "order by start_time desc\n",
    ";\n",
    "\n",
    "select * from gap_catalog.log.performance_test_log where test_case_name = 'ADS_SMA_PROC' order by start_time desc;\n",
    "--delete from gap_catalog.log.performance_test_log where test_case_name = 'ADS_SMA_PROC';\n",
    "\n",
    "SET use_cached_result = false\n",
    "\n",
    "SELECT test_case_name, p_load_date, process_key, \n",
    "min (start_time) first_start, max(end_time) last_end, DATEDIFF(SECOND, min (start_time), max(end_time)) as Elapsed_seconds,\n",
    "sum(target_insert_count), sum(target_update_count)\n",
    "FROM gap_catalog.log.performance_test_log \n",
    "where status = 'COMPLETED'\n",
    "and test_case_name = 'ADS_SMA_PROC'\n",
    "and p_load_date <> '2025-08-18'\n",
    "group by  test_case_name, p_load_date, process_key\n",
    "--order by test_case_name,p_load_date,process_key;\n",
    "order by test_case_name,first_start;\n",
    "--------------------------------------------------------------------------------------\n"
   ]
  }
 ],
 "metadata": {
  "application/vnd.databricks.v1+notebook": {
   "computePreferences": null,
   "dashboards": [],
   "environmentMetadata": null,
   "inputWidgetPreferences": null,
   "language": "sql",
   "notebookMetadata": {
    "pythonIndentUnit": 4,
    "sqlQueryOptions": {
     "applyAutoLimit": false,
     "catalog": "cis_catalog",
     "schema": "default"
    }
   },
   "notebookName": "ADS_SMA_Results.dbquery.ipynb",
   "widgets": {}
  },
  "language_info": {
   "name": "sql"
  }
 },
 "nbformat": 4,
 "nbformat_minor": 0
}
