{
 "cells": [
  {
   "cell_type": "code",
   "execution_count": 0,
   "metadata": {
    "application/vnd.databricks.v1+cell": {
     "cellMetadata": {
      "byteLimit": 10485760,
      "rowLimit": 1000
     },
     "inputWidgets": {},
     "nuid": "61e4b64b-dea2-4724-8f49-15b0a5451edc",
     "showTitle": false,
     "tableResultSettingsMap": {},
     "title": ""
    }
   },
   "outputs": [],
   "source": [
    "DROP table gap_catalog.ads_owner.SMA_CASE_PHASE_PROPERTIES;\n",
    "CREATE TABLE gap_catalog.ads_owner.SMA_CASE_PHASE_PROPERTIES\n",
    "(\n",
    "  CPPROP_KEY                BIGINT             NOT NULL,\n",
    "  CPPROP_SOURCE_ID          VARCHAR(400),\n",
    "  CPPROP_SOURCE_SYSTEM_ID   VARCHAR(120)        NOT NULL,\n",
    "  CPPROP_SOURCE_SYS_ORIGIN  VARCHAR(120)        NOT NULL,\n",
    "  CPPROP_PARENT_SOURCE_ID   VARCHAR(400),\n",
    "  CPPROP_PARENT_KEY         BIGINT,\n",
    "  CPPTP_SOURCE_ID           VARCHAR(400),\n",
    "  CPPTP_KEY                 BIGINT,\n",
    "  CASETYPE                  VARCHAR(120),\n",
    "  CASE_KEY                  BIGINT,\n",
    "  CTP_KEY                   BIGINT,\n",
    "  CPPROP_VALUE_TEXT         VARCHAR(4000),\n",
    "  CPPROP_VALUE_NUMBER       DECIMAL(38, 10),\n",
    "  CPPROP_VALUE_DATE         DATE,\n",
    "  STRUCTURETYPE             VARCHAR(400),\n",
    "  MAPPING                   VARCHAR(400),\n",
    "  ATTR_FP                   VARCHAR(400),\n",
    "  DUPL_RNK                  INTEGER,\n",
    "  SMCPP_INSERTED_DATETIME   TIMESTAMP           NOT NULL,\n",
    "  SMCPP_INSERT_PROCESS_KEY  BIGINT              NOT NULL,\n",
    "  SMCPP_UPDATED_DATETIME    TIMESTAMP           NOT NULL,\n",
    "  SMCPP_UPDATE_PROCESS_KEY  BIGINT              NOT NULL\n",
    ");\n",
    "\n",
    "ALTER TABLE gap_catalog.ads_owner.SMA_CASE_PHASE_PROPERTIES \n",
    "CLUSTER BY (CPPTP_KEY, CTP_KEY, MAPPING);"
   ]
  }
 ],
 "metadata": {
  "application/vnd.databricks.v1+notebook": {
   "computePreferences": null,
   "dashboards": [],
   "environmentMetadata": null,
   "inputWidgetPreferences": null,
   "language": "sql",
   "notebookMetadata": {
    "pythonIndentUnit": 4,
    "sqlQueryOptions": {
     "applyAutoLimit": true,
     "catalog": "cis_catalog",
     "schema": "default"
    }
   },
   "notebookName": "Table_DDL.dbquery.ipynb",
   "widgets": {}
  },
  "language_info": {
   "name": "sql"
  }
 },
 "nbformat": 4,
 "nbformat_minor": 0
}
