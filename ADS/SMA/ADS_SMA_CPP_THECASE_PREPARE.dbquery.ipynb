{
 "cells": [
  {
   "cell_type": "code",
   "execution_count": 0,
   "metadata": {
    "application/vnd.databricks.v1+cell": {
     "cellMetadata": {
      "byteLimit": 10485760,
      "rowLimit": 1000
     },
     "inputWidgets": {},
     "nuid": "f0a9e9f3-04a6-41eb-b54e-4631f19f9825",
     "showTitle": false,
     "tableResultSettingsMap": {},
     "title": ""
    }
   },
   "outputs": [],
   "source": [
    "--execute immediate 'alter session enable parallel dml';\n",
    "--execute immediate 'truncate table stg_sma_case_phase_properties_theCase';\n",
    "\n",
    "--select * from gap_catalog.ads_etl_owner.stg_sma_case_phase_properties_theCase;\n",
    "\n",
    "INSERT INTO GAP_CATALOG.ADS_ETL_OWNER.STG_SMA_CASE_PHASE_PROPERTIES_THECASE\n",
    "SELECT \n",
    "    cidla, \n",
    "    get_json_object(JSONDATA, '$.theCase.casePhase') AS casephase, \n",
    "    timestamp  \n",
    "FROM (select cidla, type, timestamp, JSONDATA from gap_catalog.ads_src_20250901.dlk_ads_sma_monitor_events_full s where s.SYS_EFFECTIVE_DATE = '2025-09-01' AND get_json_object(JSONDATA, '$.theCase.casePhase') IS NOT NULL \n",
    " AND s.type IN (\n",
    "    'CASE_CREATED',\n",
    "    'CASE_COMPLETED',\n",
    "    'CASE_WAITING',\n",
    "    'CASE_RUNNING',\n",
    "    'CASE_UPDATED',\n",
    "    'CASE_PHASE_CHANGED',\n",
    "    'CASE_RECONCILE',\n",
    "    'CASE_TRANSITIONS_EVALUATED'\n",
    ") \n",
    " ) s\n",
    "LEFT JOIN (select case_key,case_source_id,cstat_key from  gap_catalog.ads_owner.cases c\n",
    "WHERE c.case_valid_to = DATE'3000-01-01'\n",
    "    AND c.case_source_system_id = 'SMA' \n",
    "    AND c.case_source_sys_origin = 'SMA_MONITOR_EVENTS') c\n",
    "    ON c.case_source_id = s.cidla \n",
    "    AND s.type = 'CASE_TRANSITIONS_EVALUATED'\n",
    "LEFT JOIN gap_catalog.ads_owner.case_status cs \n",
    "    ON c.cstat_key = cs.cstat_key \n",
    "    AND cs.cstat_valid_to = DATE'3000-01-01'\n",
    "WHERE (c.case_key IS NULL OR cs.CSTAT_SOURCE_ID = get_json_object(jsondata, '$.theCase.caseStatus')) \n",
    "/*\n",
    "SELECT cidla, json_value(JSONDATA, '$.theCase.casePhase' returning varchar2(120)) as casephase, timestamp  \n",
    "FROM gap_catalog.ads_etl_owner.DLK_ADS_sma_monitor_events_full s\n",
    "left join ads_owner.cases c on c.case_source_id=s.cidla and c.case_valid_to=date'3000-01-01' and c.case_source_system_id='SMA' and c.case_source_sys_origin='SMA_MONITOR_EVENTS' and s.type='CASE_TRANSITIONS_EVALUATED'\n",
    "left join ads_owner.case_status cs on c.cstat_key=cs.cstat_key and cs.cstat_valid_to=date'3000-01-01'\n",
    "where s.type in ('CASE_CREATED',\n",
    "    'CASE_COMPLETED',\n",
    "    'CASE_WAITING',\n",
    "    'CASE_RUNNING',\n",
    "    'CASE_UPDATED',\n",
    "    'CASE_PHASE_CHANGED',\n",
    "    'CASE_RECONCILE',\n",
    "    'CASE_TRANSITIONS_EVALUATED') \n",
    "  and json_value(JSONDATA, '$.theCase.casePhase') is not null \n",
    "  and (c.case_key is null or cs.CSTAT_SOURCE_ID=json_value(jsondata, '$.theCase.caseStatus')) \n",
    "  and s.SYS_EFFECTIVE_DATE = '2025-09-01'\n",
    ";\n",
    "*/\n",
    "\n",
    "\n"
   ]
  }
 ],
 "metadata": {
  "application/vnd.databricks.v1+notebook": {
   "computePreferences": null,
   "dashboards": [],
   "environmentMetadata": null,
   "inputWidgetPreferences": null,
   "language": "sql",
   "notebookMetadata": {
    "pythonIndentUnit": 4,
    "sqlQueryOptions": {
     "applyAutoLimit": true,
     "catalog": "cis_catalog",
     "schema": "default"
    }
   },
   "notebookName": "ADS_SMA_CPP_THECASE_PREPARE.dbquery.ipynb",
   "widgets": {}
  },
  "language_info": {
   "name": "sql"
  }
 },
 "nbformat": 4,
 "nbformat_minor": 0
}
