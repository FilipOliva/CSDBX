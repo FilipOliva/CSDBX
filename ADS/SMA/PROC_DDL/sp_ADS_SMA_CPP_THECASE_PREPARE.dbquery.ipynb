{
 "cells": [
  {
   "cell_type": "code",
   "execution_count": 0,
   "metadata": {
    "application/vnd.databricks.v1+cell": {
     "cellMetadata": {
      "byteLimit": 2048000,
      "implicitDf": true,
      "rowLimit": 10000
     },
     "inputWidgets": {},
     "nuid": "843b9670-af13-4d1a-ae6f-bd6839df6a30",
     "showTitle": false,
     "tableResultSettingsMap": {},
     "title": ""
    }
   },
   "outputs": [],
   "source": [
    "%sql\n",
    "-- Create SQL Procedure for sp_ADS_SMA_CPP_MAIN_PREPARE ETL Process\n",
    "CREATE OR REPLACE PROCEDURE gap_catalog.ads_etl_owner.sp_ADS_SMA_CPP_THECASE_PREPARE(\n",
    "    p_load_date STRING,\n",
    "    p_process_key STRING\n",
    ")\n",
    "LANGUAGE SQL\n",
    " SQL SECURITY INVOKER\n",
    "COMMENT 'ETL procedure for sp_ADS_SMA_CPP_THECASE_PREPARE'\n",
    "AS\n",
    "BEGIN\n",
    "    -- Declare local variables\n",
    "    DECLARE my_log_id STRING;\n",
    "    BEGIN\n",
    "        CALL gap_catalog.log.start_performance_test(\n",
    "            test_case_name => 'ADS_SMA_PROC',\n",
    "            step_name => 'ADS_SMA_CPP_THECASE_PREPARE',\n",
    "            psource_sys_origin  => 'MAIN',\n",
    "            process_key => p_process_key,\n",
    "            target_table => 'STG_SMA_CASE_PHASE_PROPERTIES_THECASE',\n",
    "            log_id => my_log_id,\n",
    "            p_load_date => p_load_date\n",
    "        );\n",
    "\n",
    "        TRUNCATE TABLE gap_catalog.ads_etl_owner.STG_SMA_CASE_PHASE_PROPERTIES_THECASE;\n",
    "        \n",
    "        /* Fill Stage Table */\n",
    "        INSERT INTO GAP_CATALOG.ADS_ETL_OWNER.STG_SMA_CASE_PHASE_PROPERTIES_THECASE\n",
    "        SELECT \n",
    "            cidla, \n",
    "            get_json_object(JSONDATA, '$.theCase.casePhase') AS casephase, \n",
    "            timestamp  \n",
    "        FROM (select cidla, type, timestamp, JSONDATA from gap_catalog.ads_src_20250901.dlk_ads_sma_monitor_events_full s where s.SYS_EFFECTIVE_DATE = CAST(p_load_date AS DATE) AND get_json_object(JSONDATA, '$.theCase.casePhase') IS NOT NULL \n",
    "        AND s.type IN (\n",
    "            'CASE_CREATED',\n",
    "            'CASE_COMPLETED',\n",
    "            'CASE_WAITING',\n",
    "            'CASE_RUNNING',\n",
    "            'CASE_UPDATED',\n",
    "            'CASE_PHASE_CHANGED',\n",
    "            'CASE_RECONCILE',\n",
    "            'CASE_TRANSITIONS_EVALUATED'\n",
    "        ) \n",
    "        ) s\n",
    "        LEFT JOIN (select case_key,case_source_id,cstat_key from  gap_catalog.ads_src_20250901.cases c\n",
    "        WHERE c.case_valid_to = DATE'3000-01-01'\n",
    "            AND c.case_source_system_id = 'SMA' \n",
    "            AND c.case_source_sys_origin = 'SMA_MONITOR_EVENTS') c\n",
    "            ON c.case_source_id = s.cidla \n",
    "            AND s.type = 'CASE_TRANSITIONS_EVALUATED'\n",
    "        LEFT JOIN gap_catalog.ads_src_20250901.case_status cs \n",
    "            ON c.cstat_key = cs.cstat_key \n",
    "            AND cs.cstat_valid_to = DATE'3000-01-01'\n",
    "        WHERE (c.case_key IS NULL OR cs.CSTAT_SOURCE_ID = get_json_object(jsondata, '$.theCase.caseStatus')) ;\n",
    "\n",
    "        CALL gap_catalog.log.complete_performance_test(\n",
    "            plog_id => my_log_id\n",
    "        );\n",
    "\n",
    "END;\n",
    "    \n",
    "END;"
   ]
  }
 ],
 "metadata": {
  "application/vnd.databricks.v1+notebook": {
   "computePreferences": null,
   "dashboards": [],
   "environmentMetadata": {
    "base_environment": "",
    "environment_version": "3"
   },
   "inputWidgetPreferences": null,
   "language": "python",
   "notebookMetadata": {
    "mostRecentlyExecutedCommandWithImplicitDF": {
     "commandId": 3989735663301539,
     "dataframes": [
      "_sqldf"
     ]
    },
    "pythonIndentUnit": 4
   },
   "notebookName": "sp_ADS_SMA_CPP_THECASE_PREPARE.dbquery",
   "widgets": {}
  },
  "language_info": {
   "name": "python"
  }
 },
 "nbformat": 4,
 "nbformat_minor": 0
}
