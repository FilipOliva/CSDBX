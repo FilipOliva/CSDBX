{
 "cells": [
  {
   "cell_type": "code",
   "execution_count": 0,
   "metadata": {
    "application/vnd.databricks.v1+cell": {
     "cellMetadata": {
      "byteLimit": 2048000,
      "implicitDf": true,
      "rowLimit": 10000
     },
     "inputWidgets": {},
     "nuid": "843b9670-af13-4d1a-ae6f-bd6839df6a30",
     "showTitle": false,
     "tableResultSettingsMap": {},
     "title": ""
    }
   },
   "outputs": [],
   "source": [
    "%sql\n",
    "-- Create SQL Procedure for sp_ADS_SMA_CPP_MAIN_PREPARE ETL Process\n",
    "CREATE OR REPLACE PROCEDURE gap_catalog.ads_etl_owner.sp_ADS_SMA_CPP_MAIN_PREPARE_PART2(\n",
    "    p_load_date STRING,\n",
    "    p_process_key STRING\n",
    ")\n",
    "LANGUAGE SQL\n",
    " SQL SECURITY INVOKER\n",
    "COMMENT 'ETL procedure for sp_ADS_SMA_CPP_MAIN_PREPARE'\n",
    "AS\n",
    "BEGIN\n",
    "    -- Declare local variables\n",
    "    DECLARE my_log_id STRING;\n",
    "    BEGIN\n",
    "        CALL gap_catalog.log.start_performance_test(\n",
    "            test_case_name => 'ADS_SMA_PROC',\n",
    "            step_name => 'ADS_SMA_CPP_MAIN_PREPARE_PART2',\n",
    "            psource_sys_origin  => 'MAIN',\n",
    "            process_key => p_process_key,\n",
    "            target_table => 'STG_SMA_CASE_PHASE_PROPERTIES',\n",
    "            log_id => my_log_id,\n",
    "            p_load_date => p_load_date\n",
    "        );\n",
    "\n",
    "        TRUNCATE TABLE gap_catalog.ads_etl_owner.STG_SMA_CASE_PHASE_PROPERTIES;\n",
    "        \n",
    "        /* Fill Stage Table */\n",
    "        insert  into  gap_catalog.ads_etl_owner.STG_SMA_CASE_PHASE_PROPERTIES\n",
    "        select CPPROP_SOURCE_ID   \n",
    "        , CPPROP_PARENT_SOURCE_ID \n",
    "        , CASE_SOURCE_ID     \n",
    "        , CPPTP_SOURCE_ID   \n",
    "        , ATTR_FP         \n",
    "        , CASETYPE         \n",
    "        , ATTR_VALUE    \n",
    "        --,cpprop_value_text  \n",
    "        , ATTR_BVALUE         \n",
    "        , ATTR_TYPE           \n",
    "        , STRUCTURETYPE           \n",
    "        , MAPPING      \n",
    "        , ct.ctp_key           \n",
    "        from (select c.*, row_number() over (partition by cpprop_source_id order by timestamp desc) as rn\n",
    "        from gap_catalog.ads_etl_owner.STG_SMA_CASE_PHASE_PROPERTIES_PARSE c) src\n",
    "        join gap_catalog.ads_src_20250901.case_types ct on ct.ctp_source_id=src.casetype and ct.ctp_source_sys_origin='RDS_CASETYPE' and ct.ctp_valid_to=date'3000-01-01' \n",
    "        where rn=1;\n",
    "\n",
    "        CALL gap_catalog.log.complete_performance_test(\n",
    "            plog_id => my_log_id\n",
    "        );\n",
    "\n",
    "END;\n",
    "    \n",
    "END;"
   ]
  }
 ],
 "metadata": {
  "application/vnd.databricks.v1+notebook": {
   "computePreferences": null,
   "dashboards": [],
   "environmentMetadata": {
    "base_environment": "",
    "environment_version": "3"
   },
   "inputWidgetPreferences": null,
   "language": "python",
   "notebookMetadata": {
    "mostRecentlyExecutedCommandWithImplicitDF": {
     "commandId": 5046551761673325,
     "dataframes": [
      "_sqldf"
     ]
    },
    "pythonIndentUnit": 4
   },
   "notebookName": "sp_ADS_SMA_CPP_MAIN_PREPARE_PART2.dbquery",
   "widgets": {}
  },
  "language_info": {
   "name": "python"
  }
 },
 "nbformat": 4,
 "nbformat_minor": 0
}
