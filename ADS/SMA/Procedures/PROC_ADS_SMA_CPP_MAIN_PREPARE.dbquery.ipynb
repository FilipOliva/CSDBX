{
 "cells": [
  {
   "cell_type": "code",
   "execution_count": 0,
   "metadata": {
    "application/vnd.databricks.v1+cell": {
     "cellMetadata": {},
     "inputWidgets": {},
     "nuid": "6209500d-1fa9-42d1-9ccc-c27e6a8f69a4",
     "showTitle": false,
     "tableResultSettingsMap": {},
     "title": ""
    }
   },
   "outputs": [],
   "source": [
    "--SET spark.databricks.delta.stats.collect = false;\n",
    "--SET `spark.databricks.delta.optimizeWrite.enabled`= true;\n",
    "SET use_cached_result = false;\n",
    "\n",
    "CALL gap_catalog.ads_etl_owner.sp_ADS_SMA_CPP_MAIN_PREPARE(\n",
    "    :p_load_date, \n",
    "    :p_process_key\n",
    ");"
   ]
  }
 ],
 "metadata": {
  "application/vnd.databricks.v1+notebook": {
   "computePreferences": null,
   "dashboards": [],
   "environmentMetadata": null,
   "inputWidgetPreferences": null,
   "language": "sql",
   "notebookMetadata": {
    "pythonIndentUnit": 4,
    "sqlQueryOptions": {
     "applyAutoLimit": true,
     "catalog": "cis_catalog",
     "schema": "default"
    }
   },
   "notebookName": "PROC_ADS_SMA_CPP_MAIN_PREPARE.dbquery.ipynb",
   "widgets": {
    "p_load_date": {
     "currentValue": "",
     "nuid": "44d40fa0-33bb-4ebc-a78a-7b9a53ab8aa6",
     "typedWidgetInfo": {
      "autoCreated": false,
      "defaultValue": "",
      "label": "p_load_date",
      "name": "p_load_date",
      "options": {
       "widgetDisplayType": "Text",
       "validationRegex": null
      },
      "parameterDataType": "String"
     },
     "widgetInfo": {
      "widgetType": "text",
      "defaultValue": "",
      "label": "p_load_date",
      "name": "p_load_date",
      "options": {
       "widgetType": "text",
       "autoCreated": false,
       "validationRegex": null
      }
     }
    },
    "p_process_key": {
     "currentValue": "",
     "nuid": "262e448b-67fe-4f00-905e-aaa45870edd5",
     "typedWidgetInfo": {
      "autoCreated": false,
      "defaultValue": "",
      "label": "p_process_key",
      "name": "p_process_key",
      "options": {
       "widgetDisplayType": "Text",
       "validationRegex": null
      },
      "parameterDataType": "String"
     },
     "widgetInfo": {
      "widgetType": "text",
      "defaultValue": "",
      "label": "p_process_key",
      "name": "p_process_key",
      "options": {
       "widgetType": "text",
       "autoCreated": false,
       "validationRegex": null
      }
     }
    }
   }
  },
  "language_info": {
   "name": "sql"
  }
 },
 "nbformat": 4,
 "nbformat_minor": 0
}
