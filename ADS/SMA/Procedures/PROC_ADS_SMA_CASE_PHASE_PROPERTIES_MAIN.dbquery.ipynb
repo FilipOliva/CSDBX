{
 "cells": [
  {
   "cell_type": "code",
   "execution_count": 0,
   "metadata": {
    "application/vnd.databricks.v1+cell": {
     "cellMetadata": {
      "byteLimit": 10485760,
      "rowLimit": 1000
     },
     "inputWidgets": {},
     "nuid": "69cd386a-d857-4898-b23c-5694fb821011",
     "showTitle": false,
     "tableResultSettingsMap": {},
     "title": ""
    }
   },
   "outputs": [],
   "source": [
    "--SET spark.databricks.delta.stats.collect = false;\n",
    "--SET spark.databricks.delta.optimizeWrite.enabled = true;\n",
    "SET use_cached_result = false;\n",
    "CALL gap_catalog.ads_etl_owner.sp_ADS_SMA_CASE_PHASE_PROPERTIES_MAIN(\n",
    "    :p_load_date, \n",
    "    :p_process_key\n",
    ");"
   ]
  }
 ],
 "metadata": {
  "application/vnd.databricks.v1+notebook": {
   "computePreferences": null,
   "dashboards": [],
   "environmentMetadata": null,
   "inputWidgetPreferences": null,
   "language": "sql",
   "notebookMetadata": {
    "pythonIndentUnit": 4,
    "sqlQueryOptions": {
     "applyAutoLimit": true,
     "catalog": "cis_catalog",
     "schema": "default"
    }
   },
   "notebookName": "PROC_ADS_SMA_CASE_PHASE_PROPERTIES_MAIN.dbquery.ipynb",
   "widgets": {
    "p_load_date": {
     "currentValue": "2025-09-01",
     "nuid": "ea9bab37-e04d-4817-b614-73cfc3de1fe3",
     "typedWidgetInfo": {
      "autoCreated": false,
      "defaultValue": "",
      "label": "p_load_date",
      "name": "p_load_date",
      "options": {
       "widgetDisplayType": "Text",
       "validationRegex": null
      },
      "parameterDataType": "String"
     },
     "widgetInfo": {
      "widgetType": "text",
      "defaultValue": "",
      "label": "p_load_date",
      "name": "p_load_date",
      "options": {
       "widgetType": "text",
       "autoCreated": false,
       "validationRegex": null
      }
     }
    },
    "p_process_key": {
     "currentValue": "-1",
     "nuid": "0d74d207-798d-4052-b3c5-5ba6fde55bea",
     "typedWidgetInfo": {
      "autoCreated": false,
      "defaultValue": "",
      "label": "p_process_key",
      "name": "p_process_key",
      "options": {
       "widgetDisplayType": "Text",
       "validationRegex": null
      },
      "parameterDataType": "String"
     },
     "widgetInfo": {
      "widgetType": "text",
      "defaultValue": "",
      "label": "p_process_key",
      "name": "p_process_key",
      "options": {
       "widgetType": "text",
       "autoCreated": false,
       "validationRegex": null
      }
     }
    }
   }
  },
  "language_info": {
   "name": "sql"
  }
 },
 "nbformat": 4,
 "nbformat_minor": 0
}
