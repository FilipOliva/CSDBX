{
 "cells": [
  {
   "cell_type": "code",
   "execution_count": 0,
   "metadata": {
    "application/vnd.databricks.v1+cell": {
     "cellMetadata": {
      "byteLimit": 10485760,
      "rowLimit": 1000
     },
     "inputWidgets": {},
     "nuid": "882f3abe-8e53-4db5-9a68-cab807cb74b7",
     "showTitle": false,
     "tableResultSettingsMap": {},
     "title": ""
    }
   },
   "outputs": [],
   "source": [
    "--SET spark.databricks.delta.stats.collect = false;\n",
    "--SET spark.databricks.delta.optimizeWrite.enabled = true;\n",
    "SET use_cached_result = false;\n",
    "CALL gap_catalog.ads_etl_owner.sp_ADS_STG_SMA_CASE_PHASE_PROPERTIES_UPDATE(\n",
    "    :p_load_date, \n",
    "    :p_process_key\n",
    ");"
   ]
  }
 ],
 "metadata": {
  "application/vnd.databricks.v1+notebook": {
   "computePreferences": null,
   "dashboards": [],
   "environmentMetadata": null,
   "inputWidgetPreferences": null,
   "language": "sql",
   "notebookMetadata": {
    "pythonIndentUnit": 4,
    "sqlQueryOptions": {
     "applyAutoLimit": true,
     "catalog": "cis_catalog",
     "schema": "default"
    }
   },
   "notebookName": "PROC_ADS_STG_SMA_CASE_PHASE_PROPERTIES_UPDATE.dbquery.ipynb",
   "widgets": {
    "p_load_date": {
     "currentValue": "2025-09-03",
     "nuid": "83ca96bd-899e-4fc8-967e-84ba458b0426",
     "typedWidgetInfo": {
      "autoCreated": false,
      "defaultValue": "",
      "label": "p_load_date",
      "name": "p_load_date",
      "options": {
       "widgetDisplayType": "Text",
       "validationRegex": null
      },
      "parameterDataType": "String"
     },
     "widgetInfo": {
      "widgetType": "text",
      "defaultValue": "",
      "label": "p_load_date",
      "name": "p_load_date",
      "options": {
       "widgetType": "text",
       "autoCreated": false,
       "validationRegex": null
      }
     }
    },
    "p_process_key": {
     "currentValue": "-555",
     "nuid": "af1eeeae-c517-477b-aba1-2db5fe44f281",
     "typedWidgetInfo": {
      "autoCreated": false,
      "defaultValue": "",
      "label": "p_process_key",
      "name": "p_process_key",
      "options": {
       "widgetDisplayType": "Text",
       "validationRegex": null
      },
      "parameterDataType": "String"
     },
     "widgetInfo": {
      "widgetType": "text",
      "defaultValue": "",
      "label": "p_process_key",
      "name": "p_process_key",
      "options": {
       "widgetType": "text",
       "autoCreated": false,
       "validationRegex": null
      }
     }
    }
   }
  },
  "language_info": {
   "name": "sql"
  }
 },
 "nbformat": 4,
 "nbformat_minor": 0
}
