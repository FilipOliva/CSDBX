{
 "cells": [
  {
   "cell_type": "code",
   "execution_count": 0,
   "metadata": {
    "application/vnd.databricks.v1+cell": {
     "cellMetadata": {},
     "inputWidgets": {},
     "nuid": "197977c5-3213-4b73-87d2-b5372acc28a5",
     "showTitle": false,
     "tableResultSettingsMap": {},
     "title": ""
    }
   },
   "outputs": [],
   "source": [
    "delete from\n",
    "gap_catalog.ads_owner.case_object_status where cos_key not in (-1,-2);\n",
    "---------------------------------------------------------------\n",
    "delete from\n",
    "gap_catalog.ads_owner.event_types where EVETP_KEY not in (-1,-2);\n",
    "----------------------------------------------------------------\n",
    "delete from\n",
    "gap_catalog.ads_owner.event_status where est_key not in (-1,-2);;\n"
   ]
  }
 ],
 "metadata": {
  "application/vnd.databricks.v1+notebook": {
   "computePreferences": null,
   "dashboards": [],
   "environmentMetadata": null,
   "inputWidgetPreferences": null,
   "language": "sql",
   "notebookMetadata": {
    "pythonIndentUnit": 4,
    "sqlQueryOptions": {
     "applyAutoLimit": false,
     "catalog": "cis_catalog",
     "schema": "default"
    }
   },
   "notebookName": "ETL_Clean_Tables_RDS.dbquery.ipynb",
   "widgets": {}
  },
  "language_info": {
   "name": "sql"
  }
 },
 "nbformat": 4,
 "nbformat_minor": 0
}
