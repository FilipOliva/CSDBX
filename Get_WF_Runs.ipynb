{
 "cells": [
  {
   "cell_type": "code",
   "execution_count": 0,
   "metadata": {
    "application/vnd.databricks.v1+cell": {
     "cellMetadata": {
      "byteLimit": 2048000,
      "rowLimit": 10000
     },
     "inputWidgets": {},
     "nuid": "96717f04-eb6d-4616-b57c-b90ddec523c3",
     "showTitle": false,
     "tableResultSettingsMap": {},
     "title": ""
    }
   },
   "outputs": [],
   "source": [
    "from databricks.sdk import WorkspaceClient\n",
    "from datetime import datetime\n",
    "\n",
    "# Initialize workspace client\n",
    "workspace_client = WorkspaceClient()\n",
    "\n",
    "# Job ID for ADS_RDS_PROC\n",
    "job_id = \"1092027122452197\"  # ADS_RDS_PROC\n",
    "# job_id = \"449940996801892\"  # Uncomment for ADS_RDS_Counts\n",
    "\n",
    "# Optional: Set limit for number of runs to retrieve\n",
    "limit = 26\n",
    "\n",
    "# Filter: Only show runs from this date onwards (format: YYYY-MM-DD)\n",
    "run_date_from = \"2025-09-30\"  # Set to None to show all runs\n",
    "# run_date_from = None  # Uncomment to show all runs\n",
    "\n",
    "# Convert filter date to datetime object for comparison\n",
    "filter_date = datetime.strptime(run_date_from, '%Y-%m-%d') if run_date_from else None\n",
    "\n",
    "# Get job details for tags\n",
    "job_details = workspace_client.jobs.get(job_id=job_id)\n",
    "job_name = job_details.settings.name\n",
    "\n",
    "print(f\"{'='*100}\")\n",
    "print(f\"Job: {job_name} (ID: {job_id})\")\n",
    "if filter_date:\n",
    "    print(f\"Filtering: Runs from {run_date_from} onwards\")\n",
    "print(f\"{'='*100}\\n\")\n",
    "\n",
    "# Get job runs\n",
    "runs = workspace_client.jobs.list_runs(job_id=job_id, limit=limit)\n",
    "\n",
    "# Convert to list and filter by date if needed\n",
    "filtered_runs = []\n",
    "for run in runs:\n",
    "    if run.start_time:\n",
    "        run_datetime = datetime.fromtimestamp(run.start_time / 1000)\n",
    "        if filter_date is None or run_datetime >= filter_date:\n",
    "            filtered_runs.append(run)\n",
    "\n",
    "# Sort runs by start time (oldest first for chronological order)\n",
    "filtered_runs.sort(key=lambda x: x.start_time if x.start_time else 0)\n",
    "\n",
    "if not filtered_runs:\n",
    "    print(f\"No runs found matching the filter criteria.\")\n",
    "else:\n",
    "    for i, run in enumerate(filtered_runs, 1):\n",
    "        # Convert epoch milliseconds to datetime\n",
    "        start_time = datetime.fromtimestamp(run.start_time / 1000).strftime('%Y-%m-%d %H:%M:%S') if run.start_time else \"N/A\"\n",
    "        end_time = datetime.fromtimestamp(run.end_time / 1000).strftime('%Y-%m-%d %H:%M:%S') if run.end_time else \"N/A\"\n",
    "        \n",
    "        # Calculate duration\n",
    "        duration_ms = run.execution_duration if run.execution_duration else 0\n",
    "        duration_min = duration_ms / 1000 / 60 if duration_ms else 0\n",
    "        duration_sec = duration_ms / 1000 if duration_ms else 0\n",
    "        \n",
    "        # Get parameters\n",
    "        parameters = {}\n",
    "        if run.overriding_parameters and run.overriding_parameters.job_parameters:\n",
    "            parameters = run.overriding_parameters.job_parameters\n",
    "        \n",
    "        # Get current tags\n",
    "        tags = job_details.settings.tags if job_details.settings.tags else {}\n",
    "        \n",
    "        print(f\"[Run {i}] Run ID: {run.run_id}\")\n",
    "        print(f\"  Run Name: {run.run_name}\")\n",
    "        print(f\"  State: {run.state.result_state if run.state else 'Unknown'}\")\n",
    "        print(f\"  Life Cycle: {run.state.life_cycle_state if run.state else 'Unknown'}\")\n",
    "        print(f\"  Start Time: {start_time}\")\n",
    "        print(f\"  End Time: {end_time}\")\n",
    "        print(f\"  Duration: {duration_min:.2f} minutes ({duration_sec:.1f} seconds)\")\n",
    "        \n",
    "        if parameters:\n",
    "            print(f\"  Parameters:\")\n",
    "            for key, value in parameters.items():\n",
    "                print(f\"    {key}: {value}\")\n",
    "        \n",
    "        if tags:\n",
    "            print(f\"  Tags:\")\n",
    "            for key, value in tags.items():\n",
    "                print(f\"    {key}: {value}\")\n",
    "        \n",
    "        print(f\"  URL: {run.run_page_url}\")\n",
    "        print(f\"{'-'*100}\\n\")\n",
    "\n",
    "    print(f\"{'='*100}\")\n",
    "    print(f\"Total runs displayed: {len(filtered_runs)}\")\n",
    "    print(f\"{'='*100}\")"
   ]
  }
 ],
 "metadata": {
  "application/vnd.databricks.v1+notebook": {
   "computePreferences": {
    "hardware": {
     "accelerator": null,
     "gpuPoolId": null,
     "memory": null
    }
   },
   "dashboards": [],
   "environmentMetadata": {
    "base_environment": "",
    "environment_version": "3"
   },
   "inputWidgetPreferences": null,
   "language": "python",
   "notebookMetadata": {
    "pythonIndentUnit": 4
   },
   "notebookName": "Get_WF_Runs",
   "widgets": {}
  },
  "language_info": {
   "name": "python"
  }
 },
 "nbformat": 4,
 "nbformat_minor": 0
}
