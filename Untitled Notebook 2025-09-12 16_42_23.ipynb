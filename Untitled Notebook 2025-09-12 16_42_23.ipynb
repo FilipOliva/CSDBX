{
 "cells": [
  {
   "cell_type": "code",
   "execution_count": 0,
   "metadata": {
    "application/vnd.databricks.v1+cell": {
     "cellMetadata": {
      "byteLimit": 2048000,
      "rowLimit": 10000
     },
     "inputWidgets": {},
     "nuid": "be13a094-f579-4945-878c-372eba94e777",
     "showTitle": false,
     "tableResultSettingsMap": {},
     "title": ""
    }
   },
   "outputs": [],
   "source": [
    "import os\n",
    "\n",
    "print(\"🔍 Checking environment variables:\")\n",
    "print(f\"ORACLE_DWHP_USERNAME: {'SET' if os.getenv('ORACLE_DWHP_USERNAME') else 'NOT SET'}\")\n",
    "print(f\"ORACLE_DWHP_PASSWORD: {'SET' if os.getenv('ORACLE_DWHP_PASSWORD') else 'NOT SET'}\")\n",
    "print(f\"ORACLE_DWHP_JDBC_URL: {'SET' if os.getenv('ORACLE_DWHP_JDBC_URL') else 'NOT SET'}\")\n",
    "\n",
    "# Show first few characters of username (for debugging)\n",
    "username = os.getenv('ORACLE_DWHP_USERNAME')\n",
    "if username:\n",
    "    print(f\"Username starts with: {username[:3]}...\")"
   ]
  }
 ],
 "metadata": {
  "application/vnd.databricks.v1+notebook": {
   "computePreferences": null,
   "dashboards": [],
   "environmentMetadata": {
    "base_environment": "",
    "environment_version": "3"
   },
   "inputWidgetPreferences": null,
   "language": "python",
   "notebookMetadata": {
    "pythonIndentUnit": 4
   },
   "notebookName": "Untitled Notebook 2025-09-12 16_42_23",
   "widgets": {}
  },
  "language_info": {
   "name": "python"
  }
 },
 "nbformat": 4,
 "nbformat_minor": 0
}
