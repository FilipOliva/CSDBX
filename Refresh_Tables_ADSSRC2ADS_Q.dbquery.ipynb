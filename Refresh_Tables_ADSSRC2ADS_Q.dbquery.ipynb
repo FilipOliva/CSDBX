{
 "cells": [
  {
   "cell_type": "code",
   "execution_count": 0,
   "metadata": {
    "application/vnd.databricks.v1+cell": {
     "cellMetadata": {
      "byteLimit": 10485760,
      "rowLimit": 64000
     },
     "inputWidgets": {},
     "nuid": "e36526da-fea5-4b55-86fb-8c5cddc5b3cb",
     "showTitle": false,
     "tableResultSettingsMap": {},
     "title": ""
    }
   },
   "outputs": [],
   "source": [
    "delete from\n",
    "gap_catalog.ads_owner.case_object_status where cos_key not in (-1,-2);\n",
    "\n",
    "/* insert into gap_catalog.ads_owner.case_object_status\n",
    "select * from gap_catalog.ads_src_20250901.case_object_status; */\n",
    "\n",
    "----------------------------------------------------------------\n",
    "delete from\n",
    "gap_catalog.ads_owner.event_types where EVETP_KEY not in (-1,-2);\n",
    "\n",
    "/* insert into gap_catalog.ads_owner.event_types\n",
    "select * from gap_catalog.ads_src_20250901.event_types; */\n",
    "\n",
    "----------------------------------------------------------------\n",
    "delete from\n",
    "gap_catalog.ads_owner.event_status where est_key not in (-1,-2);;\n",
    "\n",
    "/*insert into gap_catalog.ads_owner.event_status\n",
    "select * from gap_catalog.ads_src_20250901.event_status;*/\n",
    "\n",
    "----------------------- Counts -----------------------------------------\n",
    "select 'event_status', count(1)\n",
    "from gap_catalog.ads_owner.event_status\n",
    "union all\n",
    "select 'event_types', count(1)\n",
    "from gap_catalog.ads_owner.event_types\n",
    "union all\n",
    "select 'case_object_status', count(1)\n",
    "from gap_catalog.ads_owner.case_object_status\n",
    ";\n",
    "\n"
   ]
  }
 ],
 "metadata": {
  "application/vnd.databricks.v1+notebook": {
   "computePreferences": null,
   "dashboards": [],
   "environmentMetadata": null,
   "inputWidgetPreferences": null,
   "language": "sql",
   "notebookMetadata": {
    "pythonIndentUnit": 4,
    "sqlQueryOptions": {
     "applyAutoLimit": false,
     "catalog": "cis_catalog",
     "schema": "default"
    }
   },
   "notebookName": "Refresh_Tables_ADSSRC2ADS_Q.dbquery.ipynb",
   "widgets": {}
  },
  "language_info": {
   "name": "sql"
  }
 },
 "nbformat": 4,
 "nbformat_minor": 0
}
