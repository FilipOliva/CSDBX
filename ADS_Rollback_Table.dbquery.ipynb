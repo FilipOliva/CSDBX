{
 "cells": [
  {
   "cell_type": "code",
   "execution_count": 0,
   "metadata": {
    "application/vnd.databricks.v1+cell": {
     "cellMetadata": {
      "byteLimit": 10485760,
      "rowLimit": 1000
     },
     "inputWidgets": {},
     "nuid": "55218b6d-b979-4825-b3e7-1ab5ebce8d30",
     "showTitle": false,
     "tableResultSettingsMap": {},
     "title": ""
    }
   },
   "outputs": [],
   "source": [
    "--CREATE TABLE gap_catalog.ads_owner.process_events SHALLOW CLONE gap_catalog.ads_src_20250901.process_events;\n",
    "\n",
    "select\n",
    "  *\n",
    "from\n",
    "  (\n",
    "    DESCRIBE HISTORY gap_catalog.ads_owner.PROCESS_events\n",
    "  )\n",
    "ORDER BY\n",
    "  version DESC;\n",
    "\n",
    "  RESTORE TABLE <table_name> TO VERSION AS OF 0;"
   ]
  }
 ],
 "metadata": {
  "application/vnd.databricks.v1+notebook": {
   "computePreferences": null,
   "dashboards": [],
   "environmentMetadata": null,
   "inputWidgetPreferences": null,
   "language": "sql",
   "notebookMetadata": {
    "pythonIndentUnit": 4,
    "sqlQueryOptions": {
     "applyAutoLimit": true,
     "catalog": "cis_catalog",
     "schema": "default"
    }
   },
   "notebookName": "ADS_Rollback_Table.dbquery.ipynb",
   "widgets": {}
  },
  "language_info": {
   "name": "sql"
  }
 },
 "nbformat": 4,
 "nbformat_minor": 0
}
