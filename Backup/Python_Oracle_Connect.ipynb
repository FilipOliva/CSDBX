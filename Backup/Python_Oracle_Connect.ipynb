{
 "cells": [
  {
   "cell_type": "code",
   "execution_count": 0,
   "metadata": {
    "application/vnd.databricks.v1+cell": {
     "cellMetadata": {
      "byteLimit": 2048000,
      "rowLimit": 10000
     },
     "inputWidgets": {},
     "nuid": "78f13239-67a5-42b0-ae15-7c1d4696db82",
     "showTitle": false,
     "tableResultSettingsMap": {},
     "title": ""
    }
   },
   "outputs": [],
   "source": [
    "%python\n",
    "#%pip install oracledb\n",
    "\n",
    "# Test Spark JDBC connection\n",
    "jdbc_url = \"jdbc:oracle:thin:@//pr03db-scan.vs.csin.cz:1521/DWHP\"\n",
    "\n",
    "test_df = spark.read \\\n",
    "    .format(\"jdbc\") \\\n",
    "    .option(\"url\", jdbc_url) \\\n",
    "    .option(\"dbtable\", \"(SELECT SYSDATE as current_time, USER as current_user FROM DUAL)\") \\\n",
    "    .option(\"user\", \"ext98174\") \\\n",
    "    .option(\"password\", \"Cervenec2025**\") \\\n",
    "    .option(\"driver\", \"oracle.jdbc.driver.OracleDriver\") \\\n",
    "    .load()\n",
    "\n",
    "test_df.show()\n"
   ]
  }
 ],
 "metadata": {
  "application/vnd.databricks.v1+notebook": {
   "computePreferences": null,
   "dashboards": [],
   "environmentMetadata": {
    "base_environment": "",
    "environment_version": "3"
   },
   "inputWidgetPreferences": null,
   "language": "sql",
   "notebookMetadata": {
    "pythonIndentUnit": 4
   },
   "notebookName": "Python_Oracle_Connect",
   "widgets": {}
  },
  "language_info": {
   "name": "sql"
  }
 },
 "nbformat": 4,
 "nbformat_minor": 0
}
