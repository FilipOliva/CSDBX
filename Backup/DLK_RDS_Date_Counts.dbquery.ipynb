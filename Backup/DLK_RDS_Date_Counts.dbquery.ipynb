{
 "cells": [
  {
   "cell_type": "code",
   "execution_count": 0,
   "metadata": {
    "application/vnd.databricks.v1+cell": {
     "cellMetadata": {
      "byteLimit": 10485760,
      "rowLimit": 1000
     },
     "inputWidgets": {},
     "nuid": "6243b7b0-56f1-45b4-8a71-751556beb0bc",
     "showTitle": false,
     "tableResultSettingsMap": {},
     "title": ""
    }
   },
   "outputs": [],
   "source": [
    "select SYS_EFFECTIVE_DATE, count(1)\n",
    "from gap_catalog.ads_src_20250901.DLK_ADS_SMA_MONITOR_EVENTS_FULL s\n",
    "group by SYS_EFFECTIVE_DATE\n",
    ";\n",
    "\n",
    "SELECT \n",
    "  CONCAT(\n",
    "    'SELECT ', CHAR(39), table_name, CHAR(39), ' AS table_name, SYS_EFFECTIVE_DATE, COUNT(1) AS cnt FROM ', \n",
    "    table_catalog, '.', table_schema, '.', table_name, \n",
    "    ' GROUP BY SYS_EFFECTIVE_DATE UNION ALL '\n",
    "  ) AS generated_sql\n",
    "FROM gap_catalog.information_schema.tables\n",
    "WHERE table_schema = 'ads_etl_owner'\n",
    "  AND UPPER(table_name) LIKE 'DLK%'\n",
    "ORDER BY table_name;\n",
    "---------------------------------------------------------------------------------------------------------------\n",
    "with src as (\n",
    "SELECT 'dlk_ads_lov_rds_analyticaleventstatus' AS table_name, SYS_EFFECTIVE_DATE, COUNT(1) AS cnt FROM gap_catalog.ads_etl_owner.dlk_ads_lov_rds_analyticaleventstatus GROUP BY SYS_EFFECTIVE_DATE UNION ALL \n",
    "SELECT 'dlk_ads_lov_rds_analyticaleventtypes' AS table_name, SYS_EFFECTIVE_DATE, COUNT(1) AS cnt FROM gap_catalog.ads_etl_owner.dlk_ads_lov_rds_analyticaleventtypes GROUP BY SYS_EFFECTIVE_DATE UNION ALL \n",
    "SELECT 'dlk_ads_lov_rds_conditionfulfillmentevent' AS table_name, SYS_EFFECTIVE_DATE, COUNT(1) AS cnt FROM gap_catalog.ads_etl_owner.dlk_ads_lov_rds_conditionfulfillmentevent GROUP BY SYS_EFFECTIVE_DATE UNION ALL \n",
    "SELECT 'dlk_ads_lov_rds_dispotransactiontype' AS table_name, SYS_EFFECTIVE_DATE, COUNT(1) AS cnt FROM gap_catalog.ads_etl_owner.dlk_ads_lov_rds_dispotransactiontype GROUP BY SYS_EFFECTIVE_DATE UNION ALL \n",
    "SELECT 'dlk_ads_lov_rds_distraintactstate' AS table_name, SYS_EFFECTIVE_DATE, COUNT(1) AS cnt FROM gap_catalog.ads_etl_owner.dlk_ads_lov_rds_distraintactstate GROUP BY SYS_EFFECTIVE_DATE UNION ALL \n",
    "SELECT 'dlk_ads_lov_rds_distraintacttype' AS table_name, SYS_EFFECTIVE_DATE, COUNT(1) AS cnt FROM gap_catalog.ads_etl_owner.dlk_ads_lov_rds_distraintacttype GROUP BY SYS_EFFECTIVE_DATE UNION ALL \n",
    "SELECT 'dlk_ads_lov_rds_distrainteventtype' AS table_name, SYS_EFFECTIVE_DATE, COUNT(1) AS cnt FROM gap_catalog.ads_etl_owner.dlk_ads_lov_rds_distrainteventtype GROUP BY SYS_EFFECTIVE_DATE UNION ALL \n",
    "SELECT 'dlk_ads_lov_rds_distraintstate' AS table_name, SYS_EFFECTIVE_DATE, COUNT(1) AS cnt FROM gap_catalog.ads_etl_owner.dlk_ads_lov_rds_distraintstate GROUP BY SYS_EFFECTIVE_DATE UNION ALL \n",
    "SELECT 'dlk_ads_lov_rds_errormessagebs' AS table_name, SYS_EFFECTIVE_DATE, COUNT(1) AS cnt FROM gap_catalog.ads_etl_owner.dlk_ads_lov_rds_errormessagebs GROUP BY SYS_EFFECTIVE_DATE UNION ALL \n",
    "SELECT 'dlk_ads_lov_rds_humantaskeventtype' AS table_name, SYS_EFFECTIVE_DATE, COUNT(1) AS cnt FROM gap_catalog.ads_etl_owner.dlk_ads_lov_rds_humantaskeventtype GROUP BY SYS_EFFECTIVE_DATE UNION ALL \n",
    "SELECT 'dlk_ads_lov_rds_identificationaction' AS table_name, SYS_EFFECTIVE_DATE, COUNT(1) AS cnt FROM gap_catalog.ads_etl_owner.dlk_ads_lov_rds_identificationaction GROUP BY SYS_EFFECTIVE_DATE UNION ALL \n",
    "SELECT 'dlk_ads_lov_rds_identityregistrationaction' AS table_name, SYS_EFFECTIVE_DATE, COUNT(1) AS cnt FROM gap_catalog.ads_etl_owner.dlk_ads_lov_rds_identityregistrationaction GROUP BY SYS_EFFECTIVE_DATE UNION ALL \n",
    "SELECT 'dlk_ads_lov_rds_identityregistrationcasestates' AS table_name, SYS_EFFECTIVE_DATE, COUNT(1) AS cnt FROM gap_catalog.ads_etl_owner.dlk_ads_lov_rds_identityregistrationcasestates GROUP BY SYS_EFFECTIVE_DATE UNION ALL \n",
    "SELECT 'dlk_ads_lov_rds_mepoperationstate' AS table_name, SYS_EFFECTIVE_DATE, COUNT(1) AS cnt FROM gap_catalog.ads_etl_owner.dlk_ads_lov_rds_mepoperationstate GROUP BY SYS_EFFECTIVE_DATE UNION ALL \n",
    "SELECT 'dlk_ads_lov_rds_mepoperationtype' AS table_name, SYS_EFFECTIVE_DATE, COUNT(1) AS cnt FROM gap_catalog.ads_etl_owner.dlk_ads_lov_rds_mepoperationtype GROUP BY SYS_EFFECTIVE_DATE UNION ALL \n",
    "SELECT 'dlk_ads_lov_rds_personidentificationstate' AS table_name, SYS_EFFECTIVE_DATE, COUNT(1) AS cnt FROM gap_catalog.ads_etl_owner.dlk_ads_lov_rds_personidentificationstate GROUP BY SYS_EFFECTIVE_DATE UNION ALL \n",
    "SELECT 'dlk_ads_lov_rds_sendnotificationstatus' AS table_name, SYS_EFFECTIVE_DATE, COUNT(1) AS cnt FROM gap_catalog.ads_etl_owner.dlk_ads_lov_rds_sendnotificationstatus GROUP BY SYS_EFFECTIVE_DATE UNION ALL \n",
    "SELECT 'dlk_ads_rds_onboardingeligibilitycheckresult' AS table_name, SYS_EFFECTIVE_DATE, COUNT(1) AS cnt FROM gap_catalog.ads_etl_owner.dlk_ads_rds_onboardingeligibilitycheckresult GROUP BY SYS_EFFECTIVE_DATE UNION ALL \n",
    "SELECT 'dlk_ads_rds_onboardingidentificationresult' AS table_name, SYS_EFFECTIVE_DATE, COUNT(1) AS cnt FROM gap_catalog.ads_etl_owner.dlk_ads_rds_onboardingidentificationresult GROUP BY SYS_EFFECTIVE_DATE UNION ALL \n",
    "SELECT 'dlk_ads_rds_onboardingprocessresult' AS table_name, SYS_EFFECTIVE_DATE, COUNT(1) AS cnt FROM gap_catalog.ads_etl_owner.dlk_ads_rds_onboardingprocessresult GROUP BY SYS_EFFECTIVE_DATE UNION ALL \n",
    "SELECT 'dlk_ads_rds_onboardingprocessstate' AS table_name, SYS_EFFECTIVE_DATE, COUNT(1) AS cnt FROM gap_catalog.ads_etl_owner.dlk_ads_rds_onboardingprocessstate GROUP BY SYS_EFFECTIVE_DATE UNION ALL \n",
    "SELECT 'dlk_ads_rds_onboardingproductresult' AS table_name, SYS_EFFECTIVE_DATE, COUNT(1) AS cnt FROM gap_catalog.ads_etl_owner.dlk_ads_rds_onboardingproductresult GROUP BY SYS_EFFECTIVE_DATE\n",
    ")\n",
    "select *,\n",
    "count(1) over (partition by table_name) cnt_part\n",
    "from src\n",
    "order by table_name,SYS_EFFECTIVE_DATE;"
   ]
  }
 ],
 "metadata": {
  "application/vnd.databricks.v1+notebook": {
   "computePreferences": null,
   "dashboards": [],
   "environmentMetadata": null,
   "inputWidgetPreferences": null,
   "language": "sql",
   "notebookMetadata": {
    "pythonIndentUnit": 4,
    "sqlQueryOptions": {
     "applyAutoLimit": true,
     "catalog": "cis_catalog",
     "schema": "default"
    }
   },
   "notebookName": "DLK_RDS_Date_Counts.dbquery.ipynb",
   "widgets": {}
  },
  "language_info": {
   "name": "sql"
  }
 },
 "nbformat": 4,
 "nbformat_minor": 0
}
