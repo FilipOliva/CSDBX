{
 "cells": [
  {
   "cell_type": "code",
   "execution_count": 0,
   "metadata": {
    "application/vnd.databricks.v1+cell": {
     "cellMetadata": {
      "byteLimit": 10485760,
      "rowLimit": 1000
     },
     "inputWidgets": {},
     "nuid": "5986f3dd-83d0-4d42-9a13-bcf895bc60fa",
     "showTitle": false,
     "tableResultSettingsMap": {},
     "title": ""
    }
   },
   "outputs": [],
   "source": [
    "select 'event_status', count(1)\n",
    "from gap_catalog.ads_owner.event_status\n",
    "where est_insert_process_key = 999\n",
    ";\n",
    "\n",
    "select *\n",
    "from gap_catalog.ads_owner.event_types\n",
    "where 1=1 -- est_insert_process_key = 999\n",
    "order by EVETP_UPDATED_DATETIME desc\n",
    ";\n",
    "\n",
    "\n",
    "\n",
    "select *\n",
    "from gap_catalog.ads_owner.event_status\n",
    "where 1=1\n",
    "--and est_insert_process_key = 999\n",
    "and est_source_sys_origin = 'RDS_IDENTITYREGISTRATIONCASESTATES'\n",
    "--order by est_updated_datetime desc, est_source_id\n",
    "order by est_source_id,est_valid_from desc\n",
    ";\n",
    "\n",
    "select est_source_sys_origin\n",
    "from gap_catalog.ads_owner.event_status\n",
    "where 1=1\n",
    "group by est_source_sys_origin\n",
    "order by 1;\n",
    ";\n",
    "\n",
    "--------------------------------------------------------------------------------------\n",
    "select \n",
    "*\n",
    "from gap_catalog.ads_owner.case_object_status\n",
    ";\n",
    "\n",
    "select \n",
    "count(1)\n",
    "from gap_catalog.ads_owner.case_object_status\n",
    ";\n",
    "\n",
    "\n",
    "\n",
    "union all\n",
    "select 'event_types', count(1)\n",
    "from gap_catalog.ads_owner.event_types\n",
    "union all\n",
    "select 'case_object_status', count(1)\n",
    "from gap_catalog.ads_owner.case_object_status"
   ]
  }
 ],
 "metadata": {
  "application/vnd.databricks.v1+notebook": {
   "computePreferences": null,
   "dashboards": [],
   "environmentMetadata": null,
   "inputWidgetPreferences": null,
   "language": "sql",
   "notebookMetadata": {
    "pythonIndentUnit": 4,
    "sqlQueryOptions": {
     "applyAutoLimit": true,
     "catalog": "cis_catalog",
     "schema": "default"
    }
   },
   "notebookName": "ADS_RDS_Results.dbquery.ipynb",
   "widgets": {}
  },
  "language_info": {
   "name": "sql"
  }
 },
 "nbformat": 4,
 "nbformat_minor": 0
}
