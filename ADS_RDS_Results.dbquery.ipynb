{
 "cells": [
  {
   "cell_type": "code",
   "execution_count": 0,
   "metadata": {
    "application/vnd.databricks.v1+cell": {
     "cellMetadata": {
      "byteLimit": 10485760,
      "rowLimit": 1000
     },
     "inputWidgets": {},
     "nuid": "5986f3dd-83d0-4d42-9a13-bcf895bc60fa",
     "showTitle": false,
     "tableResultSettingsMap": {
      "0": {
       "dataGridStateBlob": "{\"version\":1,\"tableState\":{\"columnPinning\":{\"left\":[\"#row_number#\"],\"right\":[]},\"columnSizing\":{\"EVETP_KEY\":252},\"columnVisibility\":{}},\"settings\":{\"columns\":{}},\"syncTimestamp\":1758699493128}",
       "filterBlob": null,
       "queryPlanFiltersBlob": null,
       "tableResultIndex": 0
      }
     },
     "title": ""
    }
   },
   "outputs": [],
   "source": [
    "--------------------------------------------------------------------------------------\n",
    "/******* event_status *******/\n",
    "select 'event_status', est_source_sys_origin, count(1)\n",
    "from gap_catalog.ads_owner.event_status\n",
    "where 1=1\n",
    "--and est_insert_process_key = 999\n",
    "group by est_source_sys_origin\n",
    ";\n",
    "\n",
    "select * from  gap_catalog.ads_owner.event_status\n",
    "where est_key = 138464 --138464 --140604\n",
    "order by est_source_sys_origin,est_source_id,est_valid_from;\n",
    "\n",
    "\n",
    "select *\n",
    "from gap_catalog.ads_owner.event_status\n",
    "where 1=1\n",
    "--and est_insert_process_key = 999\n",
    "and est_source_sys_origin = 'RDS_IDENTITYREGISTRATIONCASESTATES'\n",
    "--order by est_updated_datetime desc, est_source_id\n",
    "order by est_source_id,est_valid_from desc\n",
    ";\n",
    "\n",
    "--------------------------------------------------------------------------------------\n",
    "/******* event_types *******/\n",
    "select 'event_types', evetp_source_sys_origin, count(1)\n",
    "from gap_catalog.ads_owner.event_types\n",
    "where 1=1\n",
    "group by evetp_source_sys_origin\n",
    "order by 1;\n",
    "\n",
    "select *\n",
    "from gap_catalog.ads_owner.event_types\n",
    "where 1=1\n",
    "order by evetp_inserted_datetime desc;\n",
    "\n",
    "\n",
    "--------------------------------------------------------------------------------------\n",
    "/******* case_object_status *******/\n",
    "select 'case_object_status', cos_source_sys_origin, count(1)\n",
    "from gap_catalog.ads_owner.case_object_status\n",
    "where 1=1\n",
    "group by cos_source_sys_origin\n",
    "order by 1;\n",
    "\n",
    "select \n",
    "*\n",
    "from gap_catalog.ads_owner.case_object_status\n",
    ";"
   ]
  }
 ],
 "metadata": {
  "application/vnd.databricks.v1+notebook": {
   "computePreferences": null,
   "dashboards": [],
   "environmentMetadata": null,
   "inputWidgetPreferences": null,
   "language": "sql",
   "notebookMetadata": {
    "pythonIndentUnit": 4,
    "sqlQueryOptions": {
     "applyAutoLimit": true,
     "catalog": "cis_catalog",
     "schema": "default"
    }
   },
   "notebookName": "ADS_RDS_Results.dbquery.ipynb",
   "widgets": {}
  },
  "language_info": {
   "name": "sql"
  }
 },
 "nbformat": 4,
 "nbformat_minor": 0
}
