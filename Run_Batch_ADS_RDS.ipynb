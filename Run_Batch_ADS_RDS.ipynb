{
 "cells": [
  {
   "cell_type": "code",
   "execution_count": 0,
   "metadata": {
    "application/vnd.databricks.v1+cell": {
     "cellMetadata": {
      "byteLimit": 2048000,
      "rowLimit": 10000
     },
     "inputWidgets": {},
     "nuid": "9ac5a660-950c-44a8-a541-19752b6cbd84",
     "showTitle": false,
     "tableResultSettingsMap": {},
     "title": ""
    }
   },
   "outputs": [],
   "source": [
    "%pip install databricks-cli\n",
    "%pip install databricks-sdk"
   ]
  },
  {
   "cell_type": "code",
   "execution_count": 0,
   "metadata": {
    "application/vnd.databricks.v1+cell": {
     "cellMetadata": {
      "byteLimit": 2048000,
      "rowLimit": 10000
     },
     "inputWidgets": {},
     "nuid": "bc95b8be-6ebe-47c1-942a-883032f36538",
     "showTitle": false,
     "tableResultSettingsMap": {},
     "title": ""
    }
   },
   "outputs": [],
   "source": [
    "dbutils.library.restartPython()"
   ]
  },
  {
   "cell_type": "code",
   "execution_count": 0,
   "metadata": {
    "application/vnd.databricks.v1+cell": {
     "cellMetadata": {
      "byteLimit": 2048000,
      "rowLimit": 10000
     },
     "inputWidgets": {},
     "nuid": "280e6795-4317-49e6-b6f1-e6bb807f3ec1",
     "showTitle": false,
     "tableResultSettingsMap": {},
     "title": ""
    }
   },
   "outputs": [],
   "source": [
    "df_eff_dates = spark.sql(\"\"\"\n",
    "    select DISTINCT date_format(to_date(date_add(SYS_EFFECTIVE_DATE, 1)), 'yyyy-MM-dd') AS  int_effective_date \n",
    "    --gap_catalog.ads_etl_owner.DLK_ADS_LOV_RDS_ANALYTICALEVENTSTATUS \n",
    "    from gap_catalog.ads_etl_owner.DLK_ADS_LOV_RDS_DISPOTRANSACTIONTYPE\n",
    "    ORDER BY int_effective_date;\n",
    "\"\"\")\n",
    "\n",
    "increments = {row.int_effective_date: f\"B{row.int_effective_date.replace('-', '')}\" \n",
    "              for row in df_eff_dates.collect()}"
   ]
  },
  {
   "cell_type": "code",
   "execution_count": 0,
   "metadata": {
    "application/vnd.databricks.v1+cell": {
     "cellMetadata": {
      "byteLimit": 2048000,
      "rowLimit": 10000
     },
     "inputWidgets": {},
     "nuid": "72720ed1-d412-45f6-b226-89e8b32aea68",
     "showTitle": false,
     "tableResultSettingsMap": {},
     "title": ""
    }
   },
   "outputs": [],
   "source": [
    "from databricks_cli.jobs.api import JobsApi\n",
    "from databricks_cli.runs.api import RunsApi\n",
    "from databricks_cli.sdk.api_client import ApiClient\n",
    "from databricks.sdk import WorkspaceClient\n",
    "from databricks.sdk.service.jobs import JobSettings\n",
    "import time\n",
    "\n",
    "# Set to False for dry-run (only print), True to actually execute jobs\n",
    "#EXECUTE_JOBS = False\n",
    "EXECUTE_JOBS = True\n",
    "\n",
    "token = dbutils.notebook.entry_point.getDbutils().notebook().getContext().apiToken().get()\n",
    "host = dbutils.notebook.entry_point.getDbutils().notebook().getContext().apiUrl().get()\n",
    "\n",
    "workspace_client = WorkspaceClient()\n",
    "job_id = \"1092027122452197\" #ADS_RDS_PROC\n",
    "\n",
    "new_warehouse_id = \"63bb9c3e8676522d\" #2XS \"63bb9c3e8676522d\"\n",
    "#new_warehouse_id = \"63bb9c3e8676522d\" #XS \"94a4cb87c4f0d125\"\n",
    "#new_warehouse_id = \"63bb9c3e8676522d\" #S \"296ce849ee510c76\"\n",
    "existing_job = workspace_client.jobs.get(job_id=job_id)\n",
    "new_tasks = []\n",
    "for task in existing_job.settings.tasks:\n",
    "    if task.sql_task:\n",
    "        task.sql_task.warehouse_id = new_warehouse_id\n",
    "        new_tasks.append(task)\n",
    "\n",
    "print(f\"{'='*60}\")\n",
    "print(f\"Mode: {'EXECUTION' if EXECUTE_JOBS else 'DRY-RUN (printing only)'}\")\n",
    "print(f\"Job ID: {job_id}\")\n",
    "print(f\"Warehouse ID: {new_warehouse_id}\")\n",
    "print(f\"Total dates to process: {len(increments)}\")\n",
    "print(f\"{'='*60}\\n\")\n",
    "\n",
    "for i, (date, partition) in enumerate(sorted(increments.items()), 1):\n",
    "    print(f\"[{i}/{len(increments)}] Date: {date} | Partition: {partition}\")\n",
    "    \n",
    "    if not EXECUTE_JOBS:\n",
    "        print(f\"  -> Would update tags: effective_date={date}, etl=LD_DWH_EGR, cluster_size=XS\")\n",
    "        print(f\"  -> Would trigger job with parameters: p_effective_date={date}, p_process_key=-1, p_load_partition={partition}\")\n",
    "        print()\n",
    "        continue\n",
    "    \n",
    "    # Actually execute when EXECUTE_JOBS is True\n",
    "    try:\n",
    "        # Update tags\n",
    "        workspace_client.jobs.update(\n",
    "            job_id=job_id,\n",
    "            new_settings=JobSettings(\n",
    "                tags={\n",
    "                    \"effective_date\": date,\n",
    "                    \"etl\": \"ADS_RDS\",\n",
    "                    \"cluster_size\": \"2XS\",\n",
    "                    \"optimal\": \"true\",\n",
    "                    \"test_case\":\"ADS_RDS_20250814100\",\n",
    "                    \"use_case\":\"ora_dbx_assessment\"\n",
    "                }\n",
    "            )\n",
    "        )\n",
    "        print(f\"  -> Tags updated\")\n",
    "        \n",
    "        # Trigger the job\n",
    "        run = workspace_client.jobs.run_now_and_wait(\n",
    "                    job_id=job_id,\n",
    "                    job_parameters={\n",
    "                        \"p_load_date\": date,\n",
    "                        \"p_process_key\": \"-1\"\n",
    "                    }\n",
    "                )\n",
    "        print(f\"  -> Run finished: {run.state.life_cycle_state} | {run.state.result_state} | Duration: {run.execution_duration}ms\")\n",
    "    except Exception as e:\n",
    "        print(f\"  -> ERROR: {e}\")\n",
    "    \n",
    "    print()\n",
    "\n",
    "print(f\"{'='*60}\")\n",
    "print(f\"{'DRY-RUN COMPLETE' if not EXECUTE_JOBS else 'EXECUTION COMPLETE'}\")\n",
    "print(f\"{'='*60}\")\n",
    "    "
   ]
  },
  {
   "cell_type": "code",
   "execution_count": 0,
   "metadata": {
    "application/vnd.databricks.v1+cell": {
     "cellMetadata": {
      "byteLimit": 2048000,
      "implicitDf": true,
      "rowLimit": 10000
     },
     "inputWidgets": {},
     "nuid": "160520e9-fbca-47ad-bd0f-7085c87eae9b",
     "showTitle": false,
     "tableResultSettingsMap": {},
     "title": ""
    }
   },
   "outputs": [],
   "source": [
    "%sql\n",
    "SELECT operationMetrics['numOutputRows'] AS affected_rows\n",
    "FROM (DESCRIBE HISTORY gap_catalog.ads_owner.event_status) WHERE 1=1 /*operation='MERGE'*/ORDER BY version DESC LIMIT 1"
   ]
  },
  {
   "cell_type": "code",
   "execution_count": 0,
   "metadata": {
    "application/vnd.databricks.v1+cell": {
     "cellMetadata": {
      "byteLimit": 2048000,
      "implicitDf": true,
      "rowLimit": 10000
     },
     "inputWidgets": {},
     "nuid": "d14ef6f0-6b8a-4c56-a53e-dc9bfe7cb50d",
     "showTitle": false,
     "tableResultSettingsMap": {},
     "title": ""
    }
   },
   "outputs": [],
   "source": [
    "%sql\n",
    "DESCRIBE HISTORY gap_catalog.ads_owner.event_status"
   ]
  }
 ],
 "metadata": {
  "application/vnd.databricks.v1+notebook": {
   "computePreferences": {
    "hardware": {
     "accelerator": null,
     "gpuPoolId": null,
     "memory": null
    }
   },
   "dashboards": [],
   "environmentMetadata": {
    "base_environment": "",
    "environment_version": "3"
   },
   "inputWidgetPreferences": null,
   "language": "python",
   "notebookMetadata": {
    "mostRecentlyExecutedCommandWithImplicitDF": {
     "commandId": 1706041996533771,
     "dataframes": [
      "_sqldf"
     ]
    },
    "pythonIndentUnit": 4
   },
   "notebookName": "Run_Batch_ADS_RDS",
   "widgets": {}
  },
  "language_info": {
   "name": "python"
  }
 },
 "nbformat": 4,
 "nbformat_minor": 0
}
