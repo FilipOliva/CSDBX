{
 "cells": [
  {
   "cell_type": "code",
   "execution_count": 0,
   "metadata": {
    "application/vnd.databricks.v1+cell": {
     "cellMetadata": {
      "byteLimit": 2048000,
      "rowLimit": 10000
     },
     "inputWidgets": {},
     "nuid": "9ac5a660-950c-44a8-a541-19752b6cbd84",
     "showTitle": false,
     "tableResultSettingsMap": {},
     "title": ""
    }
   },
   "outputs": [],
   "source": [
    "%pip install databricks-cli\n",
    "%pip install databricks-sdk"
   ]
  },
  {
   "cell_type": "code",
   "execution_count": 0,
   "metadata": {
    "application/vnd.databricks.v1+cell": {
     "cellMetadata": {
      "byteLimit": 2048000,
      "rowLimit": 10000
     },
     "inputWidgets": {},
     "nuid": "bc95b8be-6ebe-47c1-942a-883032f36538",
     "showTitle": false,
     "tableResultSettingsMap": {},
     "title": ""
    }
   },
   "outputs": [],
   "source": [
    "dbutils.library.restartPython()"
   ]
  },
  {
   "cell_type": "code",
   "execution_count": 0,
   "metadata": {
    "application/vnd.databricks.v1+cell": {
     "cellMetadata": {
      "byteLimit": 2048000,
      "rowLimit": 10000
     },
     "inputWidgets": {},
     "nuid": "280e6795-4317-49e6-b6f1-e6bb807f3ec1",
     "showTitle": false,
     "tableResultSettingsMap": {},
     "title": ""
    }
   },
   "outputs": [],
   "source": [
    "df_eff_dates = spark.sql(\"\"\"\n",
    "    SELECT DISTINCT to_date(int_effective_date) AS int_effective_date\n",
    "    FROM gap_catalog.int_owner.int_sbd_clients\n",
    "    ORDER BY to_date(int_effective_date)\n",
    "\"\"\")\n",
    "\n",
    "increments = {str(row.int_effective_date): f\"B{str(row.int_effective_date).replace('-', '')}\" for row in df_eff_dates.collect()}"
   ]
  },
  {
   "cell_type": "code",
   "execution_count": 0,
   "metadata": {
    "application/vnd.databricks.v1+cell": {
     "cellMetadata": {
      "byteLimit": 2048000,
      "rowLimit": 10000
     },
     "inputWidgets": {},
     "nuid": "72720ed1-d412-45f6-b226-89e8b32aea68",
     "showTitle": false,
     "tableResultSettingsMap": {},
     "title": ""
    }
   },
   "outputs": [],
   "source": [
    "from databricks_cli.jobs.api import JobsApi\n",
    "from databricks_cli.runs.api import RunsApi\n",
    "from databricks_cli.sdk.api_client import ApiClient\n",
    "from databricks.sdk import WorkspaceClient\n",
    "from databricks.sdk.service.jobs import JobSettings\n",
    "import time\n",
    "\n",
    "token = dbutils.notebook.entry_point.getDbutils().notebook().getContext().apiToken().get()\n",
    "host = dbutils.notebook.entry_point.getDbutils().notebook().getContext().apiUrl().get()\n",
    "\n",
    "workspace_client = WorkspaceClient()\n",
    "job_id = \"361542017502456\"\n",
    "\n",
    "new_warehouse_id = \"63bb9c3e8676522d\"\n",
    "existing_job = workspace_client.jobs.get(job_id=job_id)\n",
    "new_tasks = []\n",
    "for task in existing_job.settings.tasks:\n",
    "    if task.sql_task:\n",
    "        task.sql_task.warehouse_id = new_warehouse_id\n",
    "        new_tasks.append(task)\n",
    "\n",
    "for date, partition in increments.items():\n",
    "    # Update tags\n",
    "    workspace_client.jobs.update(\n",
    "        job_id=job_id,\n",
    "        new_settings=JobSettings(\n",
    "            tags={\n",
    "                \"effective_date\": date,\n",
    "                \"etl\": \"LD_DWH_EGR\",\n",
    "                \"cluster_size\": \"XS\"\n",
    "            }\n",
    "        )\n",
    "    )\n",
    "    \n",
    "    # Trigger the job\n",
    "    try:\n",
    "        run = workspace_client.jobs.run_now_and_wait(\n",
    "                    job_id=job_id,\n",
    "                    job_parameters={\n",
    "                        \"p_effective_date\": date,\n",
    "                        \"p_process_key\": \"-1\",\n",
    "                        \"p_load_partition\": partition\n",
    "                    }\n",
    "                )\n",
    "        print(\"Run finished with state:\", run.state.life_cycle_state, run.state.result_state, run.execution_duration)\n",
    "    except Exception as e:\n",
    "        print(e)\n",
    "    \n",
    "    "
   ]
  },
  {
   "cell_type": "code",
   "execution_count": 0,
   "metadata": {
    "application/vnd.databricks.v1+cell": {
     "cellMetadata": {
      "byteLimit": 2048000,
      "rowLimit": 10000
     },
     "inputWidgets": {},
     "nuid": "5986355b-53b8-4778-a305-56a2c7d33acc",
     "showTitle": false,
     "tableResultSettingsMap": {},
     "title": ""
    }
   },
   "outputs": [],
   "source": [
    "workspace_client = WorkspaceClient()\n",
    "job_id = \"361542017502456\"\n",
    "\n",
    "new_warehouse_id = \"94a4cb87c4f0d125\"\n",
    "existing_job = workspace_client.jobs.get(job_id=job_id)\n",
    "new_tasks = []\n",
    "for task in existing_job.settings.tasks:\n",
    "    if task.sql_task:\n",
    "        task.sql_task.warehouse_id = new_warehouse_id\n",
    "        new_tasks.append(task)\n",
    "\n",
    "# Update tags\n",
    "workspace_client.jobs.update(\n",
    "    job_id=job_id,\n",
    "    new_settings=JobSettings(\n",
    "        tasks=new_tasks,\n",
    "        tags={\n",
    "            \"effective_date\": date,\n",
    "            \"etl\": \"LD_DWH_EGR\",\n",
    "            \"cluster_size\": \"S\"\n",
    "        }\n",
    "    )\n",
    ")"
   ]
  },
  {
   "cell_type": "code",
   "execution_count": 0,
   "metadata": {
    "application/vnd.databricks.v1+cell": {
     "cellMetadata": {
      "byteLimit": 2048000,
      "implicitDf": true,
      "rowLimit": 10000
     },
     "inputWidgets": {},
     "nuid": "160520e9-fbca-47ad-bd0f-7085c87eae9b",
     "showTitle": false,
     "tableResultSettingsMap": {},
     "title": ""
    }
   },
   "outputs": [],
   "source": [
    "%sql\n",
    "SELECT operationMetrics['numOutputRows'] AS affected_rows\n",
    "FROM (DESCRIBE HISTORY gap_catalog.dwh_owner_tmp.parties) WHERE operation='MERGE' ORDER BY version DESC LIMIT 1"
   ]
  },
  {
   "cell_type": "code",
   "execution_count": 0,
   "metadata": {
    "application/vnd.databricks.v1+cell": {
     "cellMetadata": {
      "byteLimit": 2048000,
      "implicitDf": true,
      "rowLimit": 10000
     },
     "inputWidgets": {},
     "nuid": "d14ef6f0-6b8a-4c56-a53e-dc9bfe7cb50d",
     "showTitle": false,
     "tableResultSettingsMap": {},
     "title": ""
    }
   },
   "outputs": [],
   "source": [
    "%sql\n",
    "DESCRIBE HISTORY gap_catalog.dwh_owner_tmp.parties"
   ]
  }
 ],
 "metadata": {
  "application/vnd.databricks.v1+notebook": {
   "computePreferences": {
    "hardware": {
     "accelerator": null,
     "gpuPoolId": null,
     "memory": null
    }
   },
   "dashboards": [],
   "environmentMetadata": {
    "base_environment": "",
    "environment_version": "3"
   },
   "inputWidgetPreferences": null,
   "language": "python",
   "notebookMetadata": {
    "mostRecentlyExecutedCommandWithImplicitDF": {
     "commandId": 6090761781419718,
     "dataframes": [
      "_sqldf"
     ]
    },
    "pythonIndentUnit": 4
   },
   "notebookName": "Run_Batch_ADS_RDS",
   "widgets": {}
  },
  "language_info": {
   "name": "python"
  }
 },
 "nbformat": 4,
 "nbformat_minor": 0
}
