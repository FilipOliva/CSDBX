{
 "cells": [
  {
   "cell_type": "code",
   "execution_count": 0,
   "metadata": {
    "application/vnd.databricks.v1+cell": {
     "cellMetadata": {},
     "inputWidgets": {},
     "nuid": "db7b273d-c279-4dfe-9d24-ec3c08dc49e5",
     "showTitle": false,
     "tableResultSettingsMap": {},
     "title": ""
    }
   },
   "outputs": [],
   "source": [
    "select\n",
    "  operationMetrics['numOutputRows'] as numOutputRows,\n",
    "  *\n",
    "from\n",
    "  (\n",
    "    DESCRIBE HISTORY gap_catalog.ads_owner.case_object_status\n",
    "    -- gap_catalog.etl_owner.stg_rrdm_pss_aggr_ncard_transactions\n",
    "  )\n",
    "where\n",
    "  version > 0\n",
    "  --and job[\"runId\"] = 238673045704997\n",
    "order by\n",
    "  version"
   ]
  }
 ],
 "metadata": {
  "application/vnd.databricks.v1+notebook": {
   "computePreferences": null,
   "dashboards": [],
   "environmentMetadata": null,
   "inputWidgetPreferences": null,
   "language": "sql",
   "notebookMetadata": {
    "sqlQueryOptions": {
     "applyAutoLimit": true,
     "catalog": "cis_catalog",
     "schema": "default"
    }
   },
   "notebookName": "Logging_Databricks.dbquery.ipynb",
   "widgets": {}
  },
  "language_info": {
   "name": "sql"
  }
 },
 "nbformat": 4,
 "nbformat_minor": 0
}
