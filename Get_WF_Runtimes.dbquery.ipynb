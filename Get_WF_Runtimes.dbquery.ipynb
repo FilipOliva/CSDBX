{
 "cells": [
  {
   "cell_type": "code",
   "execution_count": 0,
   "metadata": {
    "application/vnd.databricks.v1+cell": {
     "cellMetadata": {
      "byteLimit": 10485760,
      "rowLimit": 1000
     },
     "inputWidgets": {},
     "nuid": "f2d65d82-cd3c-4fdd-9ca7-d4e137148074",
     "showTitle": false,
     "tableResultSettingsMap": {
      "0": {
       "dataGridStateBlob": "{\"version\":1,\"tableState\":{\"columnPinning\":{\"left\":[\"#row_number#\"],\"right\":[]},\"columnSizing\":{\"name\":189},\"columnVisibility\":{}},\"settings\":{\"columns\":{}},\"syncTimestamp\":1759313899486}",
       "filterBlob": null,
       "queryPlanFiltersBlob": null,
       "tableResultIndex": 0
      }
     },
     "title": ""
    }
   },
   "outputs": [],
   "source": [
    "SELECT \n",
    "    --r.job_id,\n",
    "    j.name,\n",
    "   --run_id,\n",
    "    DATE_FORMAT(r.period_start_time, 'yyyy-MM-dd HH:mm:ss') AS period_start_time,\n",
    "    DATE_FORMAT(r.period_end_time, 'yyyy-MM-dd HH:mm:ss') AS period_end_time,\n",
    "    DATEDIFF(SECOND, period_start_time, period_end_time) as Execution_time_seconds,\n",
    "    result_state,\n",
    "    job_parameters['p_load_date']['value'] as p_load_date,\n",
    "    job_parameters['p_process_key']['value'] as p_process_key\n",
    "FROM system.lakeflow.job_run_timeline r\n",
    "LEFT JOIN (select distinct name,job_id from system.lakeflow.jobs) j ON r.job_id = j.job_id\n",
    "WHERE r.job_id = '1092027122452197'  -- ADS_RDS_PROC\n",
    "    AND period_start_time >= '2025-09-30T09:00:00'  -- Filter by date\n",
    "    AND job_parameters['p_load_date']['value'] <> '2025-08-18'\n",
    "ORDER BY period_start_time;\n",
    "\n",
    "select * from system.lakeflow.job_run_timeline;"
   ]
  }
 ],
 "metadata": {
  "application/vnd.databricks.v1+notebook": {
   "computePreferences": null,
   "dashboards": [],
   "environmentMetadata": null,
   "inputWidgetPreferences": null,
   "language": "sql",
   "notebookMetadata": {
    "sqlQueryOptions": {
     "applyAutoLimit": true,
     "catalog": "cis_catalog",
     "schema": "default"
    }
   },
   "notebookName": "Get_WF_Runtimes.dbquery.ipynb",
   "widgets": {}
  },
  "language_info": {
   "name": "sql"
  }
 },
 "nbformat": 4,
 "nbformat_minor": 0
}
